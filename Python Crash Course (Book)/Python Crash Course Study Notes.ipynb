{
 "cells": [
  {
   "cell_type": "markdown",
   "id": "c356ae8f",
   "metadata": {},
   "source": [
    "Created by Charalampos Spanias on 28/10/2021.\n",
    "\n",
    "This notebook is created for studying through the [Python Crash Course: A Hands-On, Project-Based Introduction to Programming](https://nostarch.com/pythoncrashcourse2e) book.\n",
    "\n",
    "It is not an answer to the book exercises or projects. It is used as a notebook during my study; kind of a revision on the concepts learned after each chapter. Some parts might have additional notes from other courses/books."
   ]
  },
  {
   "cell_type": "markdown",
   "id": "ae2b66a8",
   "metadata": {},
   "source": [
    "The Zen of Python!"
   ]
  },
  {
   "cell_type": "code",
   "execution_count": 1,
   "id": "cbf94d75",
   "metadata": {},
   "outputs": [
    {
     "name": "stdout",
     "output_type": "stream",
     "text": [
      "The Zen of Python, by Tim Peters\n",
      "\n",
      "Beautiful is better than ugly.\n",
      "Explicit is better than implicit.\n",
      "Simple is better than complex.\n",
      "Complex is better than complicated.\n",
      "Flat is better than nested.\n",
      "Sparse is better than dense.\n",
      "Readability counts.\n",
      "Special cases aren't special enough to break the rules.\n",
      "Although practicality beats purity.\n",
      "Errors should never pass silently.\n",
      "Unless explicitly silenced.\n",
      "In the face of ambiguity, refuse the temptation to guess.\n",
      "There should be one-- and preferably only one --obvious way to do it.\n",
      "Although that way may not be obvious at first unless you're Dutch.\n",
      "Now is better than never.\n",
      "Although never is often better than *right* now.\n",
      "If the implementation is hard to explain, it's a bad idea.\n",
      "If the implementation is easy to explain, it may be a good idea.\n",
      "Namespaces are one honking great idea -- let's do more of those!\n"
     ]
    }
   ],
   "source": [
    "import this"
   ]
  },
  {
   "cell_type": "markdown",
   "id": "35284ddc",
   "metadata": {},
   "source": [
    "# Part 1: Basics"
   ]
  },
  {
   "cell_type": "markdown",
   "id": "8ba5ed34",
   "metadata": {},
   "source": [
    "# Chapter 1: Getting Started"
   ]
  },
  {
   "cell_type": "markdown",
   "id": "4ed16954",
   "metadata": {},
   "source": [
    "**Sublime text** as an alternative to Atom! It uses the concept of **syntax highlighting**.\n",
    "\n",
    "**Sublime text hotkeys**:  \n",
    "- `Control + B` runs the program  \n",
    "- `Control + Shift + S` save as  \n",
    "- `Control + S` save  \n",
    "\n",
    "**CMD commands**:  \n",
    "- `cd` (change directory), *e.g. cd Desktop\\python\\python_work  \n",
    "- `dir` (directory)\n",
    "- `python hello_world.py` executes the code!"
   ]
  },
  {
   "cell_type": "markdown",
   "id": "ad79898d",
   "metadata": {},
   "source": [
    "# Chapter 2: Variables and Simple Data Types"
   ]
  },
  {
   "cell_type": "markdown",
   "id": "0b28b6d7",
   "metadata": {},
   "source": [
    "A **method** is an action that Python can perform on a piece of data and is always followed by a set of parentheses."
   ]
  },
  {
   "cell_type": "markdown",
   "id": "de47cc08",
   "metadata": {},
   "source": [
    "## Working with Strings"
   ]
  },
  {
   "cell_type": "markdown",
   "id": "b3ac5957",
   "metadata": {},
   "source": [
    "### Changing Case and f-strings"
   ]
  },
  {
   "cell_type": "code",
   "execution_count": 2,
   "id": "1babfc09",
   "metadata": {},
   "outputs": [
    {
     "name": "stdout",
     "output_type": "stream",
     "text": [
      "title(): Ada Lovelace \n",
      "upper(): ADA LOVELACE \n",
      "lower(): ada lovelace\n"
     ]
    }
   ],
   "source": [
    "# Changing Case in a String with Methods\n",
    "name = 'ada lovelace'\n",
    "\n",
    "# '\\n' = new line, '\\t' = tab space\n",
    "print('title():', name.title(),'\\nupper():', name.upper(),'\\nlower():', name.lower())"
   ]
  },
  {
   "cell_type": "code",
   "execution_count": 3,
   "id": "889d9ad1",
   "metadata": {},
   "outputs": [
    {
     "name": "stdout",
     "output_type": "stream",
     "text": [
      "ada lovelace\n",
      "Ada Lovelace\n"
     ]
    }
   ],
   "source": [
    "first_name = 'ada'\n",
    "last_name = 'lovelace'\n",
    "\n",
    "# f-strings (f for format)\n",
    "full_name = f'{first_name} {last_name}'\n",
    "print(full_name)\n",
    "\n",
    "# combination of f-strings and case methods\n",
    "full_name = f'{first_name.title()} {last_name.title()}'\n",
    "print(full_name)"
   ]
  },
  {
   "cell_type": "markdown",
   "id": "448ad62e",
   "metadata": {},
   "source": [
    "### Adding and Removing Whitespace"
   ]
  },
  {
   "cell_type": "code",
   "execution_count": 4,
   "id": "d10bdfaf",
   "metadata": {},
   "outputs": [
    {
     "name": "stdout",
     "output_type": "stream",
     "text": [
      "\tHello World\n",
      "Hello\n",
      "World\n",
      "\tHello\n",
      "\t\tWorld\n"
     ]
    }
   ],
   "source": [
    "# tab space\n",
    "print('\\tHello World')\n",
    "\n",
    "# new line\n",
    "print('Hello\\nWorld')\n",
    "\n",
    "# combination\n",
    "print('\\tHello\\n\\t\\tWorld')\n"
   ]
  },
  {
   "cell_type": "code",
   "execution_count": 5,
   "id": "a135c776",
   "metadata": {},
   "outputs": [
    {
     "name": "stdout",
     "output_type": "stream",
     "text": [
      "Hello\n",
      "Hello\n",
      "Hello\n"
     ]
    }
   ],
   "source": [
    "# stripping whitespace\n",
    "\n",
    "# rstrip (r for right side)\n",
    "word = 'Hello '\n",
    "print(word.rstrip())\n",
    "\n",
    "# lstrip (l for left side)\n",
    "word = ' Hello'\n",
    "print(word.lstrip())\n",
    "\n",
    "# strip (for both sides)\n",
    "word = ' Hello '\n",
    "print(word.strip())"
   ]
  },
  {
   "cell_type": "markdown",
   "id": "8253fb87",
   "metadata": {},
   "source": [
    "## Working with Numbers"
   ]
  },
  {
   "cell_type": "markdown",
   "id": "a11d0a0b",
   "metadata": {},
   "source": [
    "### Integers"
   ]
  },
  {
   "cell_type": "code",
   "execution_count": 6,
   "id": "73babcad",
   "metadata": {},
   "outputs": [
    {
     "name": "stdout",
     "output_type": "stream",
     "text": [
      "0.5\n",
      "1\n",
      "0\n",
      "16\n"
     ]
    }
   ],
   "source": [
    "# division\n",
    "print(2/4)\n",
    "\n",
    "# floor division\n",
    "print(4//3)\n",
    "\n",
    "# modulus\n",
    "print(4%2)\n",
    "\n",
    "# exponent\n",
    "print(2**4)"
   ]
  },
  {
   "cell_type": "markdown",
   "id": "e7a05a25",
   "metadata": {},
   "source": [
    "### Floats"
   ]
  },
  {
   "cell_type": "code",
   "execution_count": 7,
   "id": "270cd9ac",
   "metadata": {},
   "outputs": [
    {
     "name": "stdout",
     "output_type": "stream",
     "text": [
      "0.30000000000000004\n"
     ]
    }
   ],
   "source": [
    "# arbitrary number of decimal places! related to how computers represent floats internally!\n",
    "print(0.2 + 0.1)"
   ]
  },
  {
   "cell_type": "code",
   "execution_count": 8,
   "id": "469b4af2",
   "metadata": {},
   "outputs": [
    {
     "name": "stdout",
     "output_type": "stream",
     "text": [
      "2.0\n",
      "5.0\n"
     ]
    }
   ],
   "source": [
    "# when we divide any two numbers, the result will always be a float\n",
    "print(4/2)\n",
    "\n",
    "# in an operation involving a float, the result will always be a float\n",
    "print(4+1.0)"
   ]
  },
  {
   "cell_type": "markdown",
   "id": "e29624f4",
   "metadata": {},
   "source": [
    "### Underscores for Readability"
   ]
  },
  {
   "cell_type": "code",
   "execution_count": 9,
   "id": "59ee5298",
   "metadata": {},
   "outputs": [
    {
     "name": "stdout",
     "output_type": "stream",
     "text": [
      "1000000000\n"
     ]
    }
   ],
   "source": [
    "billion = 1_000_000_000\n",
    "print(billion)"
   ]
  },
  {
   "cell_type": "markdown",
   "id": "9e3c389c",
   "metadata": {},
   "source": [
    "### Multiple Assignment"
   ]
  },
  {
   "cell_type": "code",
   "execution_count": 10,
   "id": "5d9a0fb4",
   "metadata": {},
   "outputs": [
    {
     "name": "stdout",
     "output_type": "stream",
     "text": [
      "1 2 3\n"
     ]
    }
   ],
   "source": [
    "x, y, z = 1, 2, 3\n",
    "print(x, y, z)"
   ]
  },
  {
   "cell_type": "markdown",
   "id": "9244ad32",
   "metadata": {},
   "source": [
    "# Chapter 3: Introducing Lists"
   ]
  },
  {
   "cell_type": "markdown",
   "id": "38d95b72",
   "metadata": {},
   "source": [
    "### Accessing List Elements"
   ]
  },
  {
   "cell_type": "code",
   "execution_count": 11,
   "id": "4b229d9d",
   "metadata": {},
   "outputs": [
    {
     "name": "stdout",
     "output_type": "stream",
     "text": [
      "Pitbull \n",
      "\n",
      "This is the second breed: Labrador \n",
      "This is the 4th breed: Mastif \n",
      "This is the last breed: German-Sheperd \n",
      "\n",
      "My favorite dog breed is the White-Sheperd.\n"
     ]
    }
   ],
   "source": [
    "# Creating a list\n",
    "dog_breeds = ['pitbull', 'labrador', 'border-collie', 'mastif', 'white-sheperd', 'german-sheperd']\n",
    "\n",
    "# Accessing elements in a list\n",
    "print(dog_breeds[0].title(),'\\n')\n",
    "\n",
    "# zero-indexed, ask for the position you want minus 1\n",
    "print('This is the second breed:', dog_breeds[1].title(),'\\nThis is the 4th breed:', dog_breeds[3].title(),\n",
    "      '\\nThis is the last breed:', dog_breeds[-1].title(),'\\n')\n",
    "\n",
    "# combine f-strings and list elements (used as variables)\n",
    "print(f'My favorite dog breed is the {dog_breeds[-2].title()}.')"
   ]
  },
  {
   "cell_type": "markdown",
   "id": "2f32bb9b",
   "metadata": {},
   "source": [
    "### Changing, Adding, and Removing List Elements"
   ]
  },
  {
   "cell_type": "code",
   "execution_count": 12,
   "id": "a3c67d15",
   "metadata": {},
   "outputs": [
    {
     "name": "stdout",
     "output_type": "stream",
     "text": [
      "['pitbull', 'labrador', 'border-collie', 'mastif', 'white-sheperd', 'german-sheperd'] \n",
      "\n",
      "['rednose-pitbull', 'labrador', 'border-collie', 'mastif', 'white-sheperd', 'german-sheperd']\n"
     ]
    }
   ],
   "source": [
    "# change elements\n",
    "print(dog_breeds,'\\n')\n",
    "dog_breeds[0] = 'rednose-pitbull'\n",
    "print(dog_breeds)"
   ]
  },
  {
   "cell_type": "code",
   "execution_count": 13,
   "id": "4cee9225",
   "metadata": {},
   "outputs": [
    {
     "name": "stdout",
     "output_type": "stream",
     "text": [
      "['rednose-pitbull', 'labrador', 'border-collie', 'mastif', 'white-sheperd', 'german-sheperd', 'pitbull'] \n",
      "\n",
      "['Mike', 'Harris', 'Makis']\n"
     ]
    }
   ],
   "source": [
    "# append (= add at the end) elements\n",
    "dog_breeds.append('pitbull')\n",
    "print(dog_breeds, '\\n')\n",
    "\n",
    "# a common way to add items from user's data\n",
    "names = []\n",
    "names.append('Mike')\n",
    "names.append('Harris')\n",
    "names.append('Makis')\n",
    "print(names)"
   ]
  },
  {
   "cell_type": "code",
   "execution_count": 14,
   "id": "cbe5b4a6",
   "metadata": {},
   "outputs": [
    {
     "name": "stdout",
     "output_type": "stream",
     "text": [
      "['great-dane', 'rednose-pitbull', 'labrador', 'border-collie', 'mastif', 'white-sheperd', 'german-sheperd', 'pitbull'] \n",
      "\n",
      "['great-dane', 'akita', 'rednose-pitbull', 'labrador', 'border-collie', 'mastif', 'white-sheperd', 'german-sheperd', 'pitbull']\n"
     ]
    }
   ],
   "source": [
    "# insert a new element\n",
    "dog_breeds.insert(0, 'great-dane')\n",
    "print(dog_breeds,'\\n')\n",
    "\n",
    "# shifts every other element one position to the right\n",
    "dog_breeds.insert(1, 'akita')\n",
    "print(dog_breeds)"
   ]
  },
  {
   "cell_type": "code",
   "execution_count": 15,
   "id": "677eea8b",
   "metadata": {},
   "outputs": [
    {
     "name": "stdout",
     "output_type": "stream",
     "text": [
      "['great-dane', 'rednose-pitbull', 'labrador', 'border-collie', 'mastif', 'white-sheperd', 'german-sheperd', 'pitbull']\n"
     ]
    }
   ],
   "source": [
    "# removing elements\n",
    "\n",
    "# if we know its position -> del statement, we cannot use this element later\n",
    "del dog_breeds[1]\n",
    "print(dog_breeds)"
   ]
  },
  {
   "cell_type": "code",
   "execution_count": 16,
   "id": "92dba2ca",
   "metadata": {},
   "outputs": [
    {
     "name": "stdout",
     "output_type": "stream",
     "text": [
      "['great-dane', 'rednose-pitbull', 'labrador', 'border-collie', 'mastif', 'white-sheperd', 'german-sheperd', 'pitbull'] \n",
      "\n",
      "['great-dane', 'rednose-pitbull', 'labrador', 'border-collie', 'mastif', 'white-sheperd', 'german-sheperd'] \n",
      "\n",
      "pitbull \n",
      "\n",
      "great-dane\n"
     ]
    }
   ],
   "source": [
    "# if we want to use the removed element at the future, use pop method\n",
    "print(dog_breeds,'\\n')\n",
    "\n",
    "# the variable will hold the \"popped\" value\n",
    "popped_dog_breed = dog_breeds.pop()\n",
    "\n",
    "print(dog_breeds,'\\n')\n",
    "print(popped_dog_breed,'\\n')\n",
    "\n",
    "# can pop any element\n",
    "popped_dog_breed_1 = dog_breeds.pop(0)\n",
    "print(popped_dog_breed_1)"
   ]
  },
  {
   "cell_type": "markdown",
   "id": "ea88231a",
   "metadata": {},
   "source": [
    "When you know the **position**, or **index** of the element:\n",
    "- When you want to delete an item from a list and not use that item in any way use the `del statement`.\n",
    "- If you want to use an item as you remove it, use the `pop()` method.\n",
    "\n",
    "When you do not know the index, use the `remove()` method."
   ]
  },
  {
   "cell_type": "code",
   "execution_count": 17,
   "id": "86f5dbe9",
   "metadata": {},
   "outputs": [
    {
     "name": "stdout",
     "output_type": "stream",
     "text": [
      "['rednose-pitbull', 'labrador', 'border-collie', 'mastif', 'white-sheperd', 'german-sheperd'] \n",
      "\n",
      "['rednose-pitbull', 'labrador', 'border-collie', 'white-sheperd', 'german-sheperd'] \n",
      "\n",
      "The White-Sheperd is too white for me!\n"
     ]
    }
   ],
   "source": [
    "print(dog_breeds, '\\n')\n",
    "\n",
    "dog_breeds.remove('mastif')\n",
    "print(dog_breeds, '\\n')\n",
    "\n",
    "# add a reason of why you remove it by saving the element in a new variable\n",
    "too_white = 'white-sheperd'\n",
    "dog_breeds.remove(too_white)\n",
    "print(f'The {too_white.title()} is too white for me!')"
   ]
  },
  {
   "cell_type": "markdown",
   "id": "6ce24d48",
   "metadata": {},
   "source": [
    "The `remove()` method removes only the firs occurence of the element! If you want to remove them all, you must use a loop!"
   ]
  },
  {
   "cell_type": "markdown",
   "id": "ca336183",
   "metadata": {},
   "source": [
    "### Try it yourself exercises"
   ]
  },
  {
   "cell_type": "code",
   "execution_count": 18,
   "id": "25ec644c",
   "metadata": {},
   "outputs": [
    {
     "name": "stdout",
     "output_type": "stream",
     "text": [
      "Mike you are invited for dinner in my house!\n",
      "John you are invited for dinner in my house!\n",
      "Alex you are invited for dinner in my house!\n",
      "Sam you are invited for dinner in my house!\n",
      "\n"
     ]
    }
   ],
   "source": [
    "# 3.4\n",
    "guest_list = ['Mike', 'John', 'Alex', 'Sam']\n",
    "print(f'{guest_list[0]} you are invited for dinner in my house!\\n{guest_list[1]} you are invited for dinner in my house!\\n{guest_list[2]} you are invited for dinner in my house!\\n{guest_list[3]} you are invited for dinner in my house!\\n')"
   ]
  },
  {
   "cell_type": "code",
   "execution_count": 19,
   "id": "70a6e28f",
   "metadata": {},
   "outputs": [
    {
     "name": "stdout",
     "output_type": "stream",
     "text": [
      "Unfortunately, Sam can't make it tonight!\n",
      "\n",
      "Mike you are invited for dinner in my house!\n",
      "John you are invited for dinner in my house!\n",
      "Alex you are invited for dinner in my house!\n",
      "Euan you are invited for dinner in my house!\n",
      "\n"
     ]
    }
   ],
   "source": [
    "# 3.5\n",
    "not_coming = guest_list[3]\n",
    "print(f\"Unfortunately, {not_coming} can't make it tonight!\\n\")\n",
    "\n",
    "guest_list[3] = 'Euan'\n",
    "\n",
    "print(f'{guest_list[0]} you are invited for dinner in my house!\\n{guest_list[1]} you are invited for dinner in my house!\\n{guest_list[2]} you are invited for dinner in my house!\\n{guest_list[3]} you are invited for dinner in my house!\\n')"
   ]
  },
  {
   "cell_type": "code",
   "execution_count": 20,
   "id": "13cb80e7",
   "metadata": {},
   "outputs": [
    {
     "name": "stdout",
     "output_type": "stream",
     "text": [
      "I just realized that I have room for more people at the dinner, so I can invite three more guests!\n",
      "['Maria', 'Mike', 'Lucy', 'John', 'Alex', 'Euan', 'Jim']\n"
     ]
    }
   ],
   "source": [
    "# 3.6\n",
    "print(\"I just realized that I have room for more people at the dinner, so I can invite three more guests!\")\n",
    "\n",
    "guest_list.insert(0, 'Maria')\n",
    "guest_list.insert(2, 'Lucy')\n",
    "guest_list.append('Jim')\n",
    "\n",
    "print(guest_list)"
   ]
  },
  {
   "cell_type": "code",
   "execution_count": 21,
   "id": "de5b0e3d",
   "metadata": {},
   "outputs": [
    {
     "name": "stdout",
     "output_type": "stream",
     "text": [
      "My calculations were wrong, I can have only two people for dinner!\n",
      "\n",
      "['Maria', 'Mike'] \n",
      "\n",
      "Maria and Mike you are still invited!\n",
      "\n",
      "[]\n"
     ]
    }
   ],
   "source": [
    "# 3.7\n",
    "print('My calculations were wrong, I can have only two people for dinner!\\n')\n",
    "\n",
    "guest_list.pop()\n",
    "guest_list.pop()\n",
    "guest_list.pop()\n",
    "guest_list.pop()\n",
    "guest_list.pop()\n",
    "\n",
    "print(guest_list,'\\n')\n",
    "\n",
    "print(f'{guest_list[0]} and {guest_list[1]} you are still invited!\\n')\n",
    "\n",
    "del guest_list[1]\n",
    "del guest_list[0]\n",
    "\n",
    "print(guest_list)"
   ]
  },
  {
   "cell_type": "markdown",
   "id": "df63e63b",
   "metadata": {},
   "source": [
    "### Organizing a list"
   ]
  },
  {
   "cell_type": "markdown",
   "id": "31ec4aa5",
   "metadata": {},
   "source": [
    "Sorting a list alphabetically is a bit more complicated when all the values are not in lowercase."
   ]
  },
  {
   "cell_type": "markdown",
   "id": "03c2040c",
   "metadata": {},
   "source": [
    "The `sort()` method changes the order of the list **permanently**; we can never revert to the original order!"
   ]
  },
  {
   "cell_type": "code",
   "execution_count": 22,
   "id": "dc732ead",
   "metadata": {},
   "outputs": [
    {
     "name": "stdout",
     "output_type": "stream",
     "text": [
      "['audi', 'bmw', 'subaru', 'toyota']\n",
      "['toyota', 'subaru', 'bmw', 'audi']\n"
     ]
    }
   ],
   "source": [
    "# alphabetically sorted\n",
    "cars = ['audi', 'bmw', 'toyota', 'subaru']\n",
    "cars.sort()\n",
    "print(cars)\n",
    "\n",
    "# reverse alphabetically sorted\n",
    "cars.sort(reverse=True)\n",
    "print(cars)"
   ]
  },
  {
   "cell_type": "markdown",
   "id": "f928460d",
   "metadata": {},
   "source": [
    "The `sorted()` function just display the list sorted, but does not affect the actual order of the list."
   ]
  },
  {
   "cell_type": "code",
   "execution_count": 23,
   "id": "301e350f",
   "metadata": {
    "scrolled": true
   },
   "outputs": [
    {
     "name": "stdout",
     "output_type": "stream",
     "text": [
      "['audi', 'bmw', 'subaru', 'toyota'] \n",
      "\n",
      "['toyota', 'subaru', 'bmw', 'audi']\n"
     ]
    }
   ],
   "source": [
    "print(sorted(cars), '\\n')\n",
    "print(sorted(cars, reverse=True))"
   ]
  },
  {
   "cell_type": "markdown",
   "id": "a55d9a77",
   "metadata": {},
   "source": [
    "The `reverse()` method, reverses the list order permanently (but you can reverse back to the original order!)."
   ]
  },
  {
   "cell_type": "code",
   "execution_count": 24,
   "id": "e4a1eaa3",
   "metadata": {},
   "outputs": [
    {
     "name": "stdout",
     "output_type": "stream",
     "text": [
      "['toyota', 'subaru', 'bmw', 'audi']\n",
      "['audi', 'bmw', 'subaru', 'toyota']\n"
     ]
    }
   ],
   "source": [
    "print(cars)\n",
    "cars.reverse()\n",
    "print(cars)"
   ]
  },
  {
   "cell_type": "markdown",
   "id": "6698e24c",
   "metadata": {},
   "source": [
    "# Chapter 4: Working with Lists"
   ]
  },
  {
   "cell_type": "markdown",
   "id": "635cc2d9",
   "metadata": {},
   "source": [
    "`for()` loop"
   ]
  },
  {
   "cell_type": "code",
   "execution_count": 25,
   "id": "992dcbc8",
   "metadata": {
    "scrolled": false
   },
   "outputs": [
    {
     "name": "stdout",
     "output_type": "stream",
     "text": [
      "Alice, that was a great trick!\n",
      "I cannot wait your next trick, Alice.\n",
      "\n",
      "David, that was a great trick!\n",
      "I cannot wait your next trick, David.\n",
      "\n",
      "Carolina, that was a great trick!\n",
      "I cannot wait your next trick, Carolina.\n",
      "\n"
     ]
    }
   ],
   "source": [
    "magicians = ['alice', 'david', 'carolina']\n",
    "# associate each value with the variable name \n",
    "for name in magicians:\n",
    "    print(f'{name.title()}, that was a great trick!')\n",
    "    print(f'I cannot wait your next trick, {name.title()}.\\n')"
   ]
  },
  {
   "cell_type": "markdown",
   "id": "38b0dfce",
   "metadata": {},
   "source": [
    "The code below includes not a **syntax** or **indentation**, but a **logical** error!"
   ]
  },
  {
   "cell_type": "code",
   "execution_count": 26,
   "id": "1d05563f",
   "metadata": {},
   "outputs": [
    {
     "name": "stdout",
     "output_type": "stream",
     "text": [
      "Alice, that was a great trick!\n",
      "David, that was a great trick!\n",
      "Carolina, that was a great trick!\n",
      "I cannot wait your next trick, Carolina.\n",
      "\n"
     ]
    }
   ],
   "source": [
    "magicians = ['alice', 'david', 'carolina']\n",
    "# associate each value with the variable name \n",
    "for name in magicians:\n",
    "    print(f'{name.title()}, that was a great trick!')\n",
    "print(f'I cannot wait your next trick, {name.title()}.\\n')"
   ]
  },
  {
   "cell_type": "markdown",
   "id": "6582aeba",
   "metadata": {},
   "source": [
    "### Making numerical lists"
   ]
  },
  {
   "cell_type": "code",
   "execution_count": 27,
   "id": "61bf21f4",
   "metadata": {
    "scrolled": true
   },
   "outputs": [
    {
     "name": "stdout",
     "output_type": "stream",
     "text": [
      "1\n",
      "2\n",
      "3\n",
      "4\n"
     ]
    }
   ],
   "source": [
    "# generate a sequence of numbers, notice the off-by-one behavior: stops (=does not print) at 5!\n",
    "for number in range(1,5):\n",
    "    print(number)"
   ]
  },
  {
   "cell_type": "code",
   "execution_count": 28,
   "id": "f2e5a791",
   "metadata": {},
   "outputs": [
    {
     "name": "stdout",
     "output_type": "stream",
     "text": [
      "0\n",
      "1\n",
      "2\n",
      "3\n",
      "4\n"
     ]
    }
   ],
   "source": [
    "# if we pass just one argument, it starts from 0\n",
    "for number in range(5):\n",
    "    print(number)"
   ]
  },
  {
   "cell_type": "code",
   "execution_count": 29,
   "id": "d91c35e1",
   "metadata": {},
   "outputs": [
    {
     "name": "stdout",
     "output_type": "stream",
     "text": [
      "[0, 1, 2, 3, 4]\n"
     ]
    }
   ],
   "source": [
    "# we can convert a range of number into a list\n",
    "numbers = list(range(5))\n",
    "print(numbers)"
   ]
  },
  {
   "cell_type": "code",
   "execution_count": 30,
   "id": "3712c6aa",
   "metadata": {},
   "outputs": [
    {
     "name": "stdout",
     "output_type": "stream",
     "text": [
      "[2, 4, 6, 8, 10]\n"
     ]
    }
   ],
   "source": [
    "# pass a thid argument, i.e. step size\n",
    "numbers = list(range(2,11,2))\n",
    "print(numbers)"
   ]
  },
  {
   "cell_type": "markdown",
   "id": "cc197947",
   "metadata": {},
   "source": [
    "### List Comprehensions \n",
    "\n",
    "Combines the `for()` loop and the creation of new elements into one line, and automatically appends each new element!"
   ]
  },
  {
   "cell_type": "code",
   "execution_count": 31,
   "id": "2f93829e",
   "metadata": {},
   "outputs": [
    {
     "name": "stdout",
     "output_type": "stream",
     "text": [
      "[1, 4, 9, 16, 25, 36, 49, 64, 81, 100]\n"
     ]
    }
   ],
   "source": [
    "# list_name = [define the exression for the values you want to store in the new list then write a for loop]\n",
    "squares = [value**2 for value in range(1,11)]\n",
    "print(squares)"
   ]
  },
  {
   "cell_type": "markdown",
   "id": "d315d20a",
   "metadata": {},
   "source": [
    "### Working with Part of a List"
   ]
  },
  {
   "cell_type": "markdown",
   "id": "bbd2f91d",
   "metadata": {},
   "source": [
    "**Slicing** (= a specific groups of items) a list"
   ]
  },
  {
   "cell_type": "code",
   "execution_count": 32,
   "id": "08e89a7c",
   "metadata": {
    "scrolled": true
   },
   "outputs": [
    {
     "name": "stdout",
     "output_type": "stream",
     "text": [
      "['dog', 'cat', 'rabbit']\n",
      "['dog', 'cat', 'rabbit']\n",
      "['mouse', 'fox', 'horse']\n",
      "['mouse', 'fox', 'horse']\n",
      "['dog', 'rabbit']\n"
     ]
    }
   ],
   "source": [
    "animals = ['dog', 'cat', 'rabbit', 'mouse', 'fox', 'horse']\n",
    "\n",
    "# off-by-one rule\n",
    "print(animals[0:3])\n",
    "\n",
    "# starts at the beggining of the list\n",
    "print(animals[:3])\n",
    "\n",
    "# goes to the end of the list\n",
    "print(animals[3:])\n",
    "\n",
    "# from the end of the list\n",
    "print(animals[-3:])\n",
    "\n",
    "# skip items with a 2nd argument\n",
    "print(animals[0:3:2])"
   ]
  },
  {
   "cell_type": "markdown",
   "id": "a978fbba",
   "metadata": {},
   "source": [
    "**Copying** a list"
   ]
  },
  {
   "cell_type": "code",
   "execution_count": 33,
   "id": "15827280",
   "metadata": {},
   "outputs": [
    {
     "name": "stdout",
     "output_type": "stream",
     "text": [
      "['dog', 'cat', 'rabbit', 'mouse', 'fox', 'horse']\n",
      "['dog', 'cat', 'rabbit', 'mouse', 'fox', 'horse']\n"
     ]
    }
   ],
   "source": [
    "# all elements of the list animals\n",
    "animals_2 = animals[:]\n",
    "print(animals)\n",
    "print(animals_2)"
   ]
  },
  {
   "cell_type": "markdown",
   "id": "2f0f0173",
   "metadata": {},
   "source": [
    "### Tuples"
   ]
  },
  {
   "cell_type": "markdown",
   "id": "1c0ca3de",
   "metadata": {},
   "source": [
    "Python refers to value that cannot change as **immutable**, and an immuable list is called a **tuple**."
   ]
  },
  {
   "cell_type": "code",
   "execution_count": 34,
   "id": "869b51e4",
   "metadata": {},
   "outputs": [
    {
     "name": "stdout",
     "output_type": "stream",
     "text": [
      "250\n",
      "23\n",
      "3\n"
     ]
    }
   ],
   "source": [
    "# define a tuple using parentheses instead of square brackets\n",
    "dimensions = (250, 50)\n",
    "\n",
    "# access elements as a list\n",
    "print(dimensions[0])\n",
    "\n",
    "# cannot change values!\n",
    "#dimensions[0] = 200\n",
    "\n",
    "# tuples are defined by the comma, the parentheses aid readability!\n",
    "coordinates = 23,100\n",
    "print(coordinates[0])\n",
    "\n",
    "# you can define a single element tuple\n",
    "dimension = (3,)\n",
    "print(dimension[0])"
   ]
  },
  {
   "cell_type": "markdown",
   "id": "cce569b6",
   "metadata": {},
   "source": [
    "### Styling your code"
   ]
  },
  {
   "cell_type": "markdown",
   "id": "8ed5c5fa",
   "metadata": {},
   "source": [
    "[Python Enhancement Proposal (PEP) 8](https://www.python.org/dev/peps/pep-0008/):\n",
    "- 4 spaces per indentation level\n",
    "- Each line less than 80 characters\n",
    "- Limit comments to 72 characters per line\n",
    "\n",
    "Sublime Text configuration:\n",
    "- View -> Indentation -> Indent Using Spaces (Tab width = 4)\n",
    "- View -> Ruler (80)\n",
    "- `Control + ]` (Indent), `Control + [`(Unident)\n",
    "- `Control + /` (toggle comment)\n",
    "- For changes general settings and not the working file setting only: Preferences -> Settings and in the *Preferences.sublime-settings - User* file enter:   \n",
    "`{ \"rulers: [80], \"translate_tabs_to_spaces\" : true }`"
   ]
  },
  {
   "cell_type": "markdown",
   "id": "9cdcf7be",
   "metadata": {},
   "source": [
    "# Chapter 5: If Statements\n",
    "\n",
    "**PEP 8 for conditional tests**: use a single space around comparison operators, e.g. `animal > dog`!"
   ]
  },
  {
   "cell_type": "markdown",
   "id": "aa62a7ce",
   "metadata": {},
   "source": [
    "## Conditional Statements"
   ]
  },
  {
   "cell_type": "code",
   "execution_count": 35,
   "id": "0644c1b5",
   "metadata": {
    "scrolled": true
   },
   "outputs": [
    {
     "name": "stdout",
     "output_type": "stream",
     "text": [
      "False\n",
      "True\n"
     ]
    }
   ],
   "source": [
    "# checking for equality is case sensitive\n",
    "animal = 'Dog'\n",
    "print(animal == 'dog')\n",
    "\n",
    "# if case does not matter you can test it without affecting the original variable\n",
    "print(animal.lower() == 'dog')\n"
   ]
  },
  {
   "cell_type": "markdown",
   "id": "f53d6757",
   "metadata": {},
   "source": [
    "### Checking if a Value is or is not Inside a List"
   ]
  },
  {
   "cell_type": "code",
   "execution_count": 36,
   "id": "f79ba4d6",
   "metadata": {},
   "outputs": [
    {
     "name": "stdout",
     "output_type": "stream",
     "text": [
      "True\n",
      "False\n",
      "Mouse is not in the list!\n"
     ]
    }
   ],
   "source": [
    "animals = ['dog', 'cat', 'fox', 'horse']\n",
    "print('dog' in animals)\n",
    "print('mouse' in animals)\n",
    "\n",
    "animal = 'mouse'\n",
    "if animal not in animals:\n",
    "    print(f'{animal.title()} is not in the list!')"
   ]
  },
  {
   "cell_type": "markdown",
   "id": "83f5298b",
   "metadata": {},
   "source": [
    "### If Statements"
   ]
  },
  {
   "cell_type": "markdown",
   "id": "ab412deb",
   "metadata": {},
   "source": [
    "In an `if-elif-else` chain, the `else` block is a **catchall statement** which can sometimes include invalid or malicious data. If you have a specific final condition your are testing for, consider using a final `elif` block and omit the `else` block. You will gain extra confidence that your code will run only under the correct conditions!"
   ]
  },
  {
   "cell_type": "code",
   "execution_count": 37,
   "id": "5745c292",
   "metadata": {},
   "outputs": [
    {
     "name": "stdout",
     "output_type": "stream",
     "text": [
      "You are too young to vote.\n",
      "Admission costs £40.\n",
      "Admission costs £25.\n"
     ]
    }
   ],
   "source": [
    "# if-else chain, only 2 options\n",
    "age = 17\n",
    "if age >= 18:\n",
    "    print('You are old enough to vote.')\n",
    "else: # age < 18\n",
    "    print('You are too young to vote.')\n",
    "    \n",
    "# if-elif-else chain, for > 2 options\n",
    "age = 60\n",
    "if age < 4:\n",
    "    print('Admission is free of charge!')\n",
    "elif age <=18:\n",
    "    print('Admission costs £25.')\n",
    "else: # age >18\n",
    "    print('Admission costs £40.')\n",
    "    \n",
    "# more concise version, the puprose of the if-elif-else chain in clearer, i.e. set the price!\n",
    "age = 12\n",
    "if age < 4:\n",
    "    price = 0\n",
    "elif age <=18:\n",
    "    price = 25\n",
    "else: # age >18\n",
    "    price = 40\n",
    "    \n",
    "print(f'Admission costs £{price}.')"
   ]
  },
  {
   "cell_type": "markdown",
   "id": "413850fb",
   "metadata": {},
   "source": [
    "### Testing Multiple Conditions\n",
    "\n",
    "The `if-elif-else` chain is powerful, but it's only appropriate to use when you just need one test to pass! Sometimes it is important to check all of the conditions of interest. In that case you can use a series of simple `if` statements with no `elif` or `else` blocks."
   ]
  },
  {
   "cell_type": "code",
   "execution_count": 38,
   "id": "d3ef9e81",
   "metadata": {},
   "outputs": [
    {
     "name": "stdout",
     "output_type": "stream",
     "text": [
      "Adding mushrooms.\n",
      "Adding extra cheese.\n",
      "\n",
      "Finished making your pizza!\n"
     ]
    }
   ],
   "source": [
    "# every if statement is executed regardless if the previous one was True or False\n",
    "requested_toppings = ['mushrooms', 'extra cheese']\n",
    "\n",
    "if 'mushrooms' in requested_toppings:\n",
    "    print('Adding mushrooms.')\n",
    "if 'extra cheese' in requested_toppings:\n",
    "    print('Adding extra cheese.')\n",
    "if 'pepperoni' in requested_toppings:\n",
    "    print('Adding pepperoni.')\n",
    "    \n",
    "print('\\nFinished making your pizza!')"
   ]
  },
  {
   "cell_type": "markdown",
   "id": "223e7b90",
   "metadata": {},
   "source": [
    "### Using If Statements with Lists\n",
    "\n",
    "When the name of a list is used in an `if statement`, Python returns True if the list contains at least one element; an empty list evaluates to False."
   ]
  },
  {
   "cell_type": "code",
   "execution_count": 39,
   "id": "ef02337f",
   "metadata": {},
   "outputs": [
    {
     "name": "stdout",
     "output_type": "stream",
     "text": [
      "Are you sure you want a plain pizza?\n"
     ]
    }
   ],
   "source": [
    "requested_toppings = []\n",
    "\n",
    "if requested_toppings:\n",
    "    for requested_topping in requrest_toppings:\n",
    "        print(f'Adding {request_topping}.')\n",
    "    print('\\nFinished making your pizza!')\n",
    "else:\n",
    "    print('Are you sure you want a plain pizza?')"
   ]
  },
  {
   "cell_type": "markdown",
   "id": "9e5a1552",
   "metadata": {},
   "source": [
    "### Using multiple Lists"
   ]
  },
  {
   "cell_type": "code",
   "execution_count": 40,
   "id": "82062ffc",
   "metadata": {
    "scrolled": true
   },
   "outputs": [
    {
     "name": "stdout",
     "output_type": "stream",
     "text": [
      "Adding mushrooms.\n",
      "We are sorry, we do not have french fries.\n",
      "Adding extra cheese.\n",
      "We finished making your pizza!\n"
     ]
    }
   ],
   "source": [
    "available_toppings = ['mushrooms', 'olives', 'green peppers', 'extra cheese']\n",
    "requested_toppings = ['mushrooms', 'french fries', 'extra cheese']\n",
    "\n",
    "for requested_topping in requested_toppings:\n",
    "    if requested_topping in available_toppings:\n",
    "        print(f'Adding {requested_topping}.')\n",
    "    else:\n",
    "        print(f'We are sorry, we do not have {requested_topping}.')\n",
    "\n",
    "print('We finished making your pizza!')"
   ]
  },
  {
   "cell_type": "markdown",
   "id": "b3815a2e",
   "metadata": {},
   "source": [
    "# Chapter 6: Dictionaries\n",
    "\n",
    "A collection of **key-value pairs**."
   ]
  },
  {
   "cell_type": "code",
   "execution_count": 41,
   "id": "cfb35357",
   "metadata": {
    "scrolled": true
   },
   "outputs": [
    {
     "name": "stdout",
     "output_type": "stream",
     "text": [
      "green\n",
      "5\n"
     ]
    }
   ],
   "source": [
    "# creating a dictionary\n",
    "alien_0 = {'color': 'green', 'points': 5}\n",
    "\n",
    "# returns the value associated with the key \"color\" from the dictionary \"alien_0\"\n",
    "print(alien_0['color'])\n",
    "print(alien_0['points'])"
   ]
  },
  {
   "cell_type": "markdown",
   "id": "b794a4b8",
   "metadata": {},
   "source": [
    "### Adding new values to a dictionary"
   ]
  },
  {
   "cell_type": "code",
   "execution_count": 42,
   "id": "a5196b8b",
   "metadata": {},
   "outputs": [
    {
     "name": "stdout",
     "output_type": "stream",
     "text": [
      "{'color': 'green', 'points': 5, 'x_position': 0, 'y_position': 25}\n"
     ]
    }
   ],
   "source": [
    "alien_0['x_position'] = 0\n",
    "alien_0['y_position'] = 25\n",
    "print(alien_0)"
   ]
  },
  {
   "cell_type": "markdown",
   "id": "7810482f",
   "metadata": {},
   "source": [
    "### Creating a new dictionary"
   ]
  },
  {
   "cell_type": "code",
   "execution_count": 43,
   "id": "1a7c1403",
   "metadata": {},
   "outputs": [
    {
     "name": "stdout",
     "output_type": "stream",
     "text": [
      "{'color': 'green', 'points': 5}\n"
     ]
    }
   ],
   "source": [
    "# create an empty dictionary\n",
    "alien_0 = {}\n",
    "# add each key-value pairs individually\n",
    "alien_0['color'] = 'green'\n",
    "alien_0['points'] = 5\n",
    "print(alien_0)"
   ]
  },
  {
   "cell_type": "code",
   "execution_count": 44,
   "id": "34dae3cb",
   "metadata": {},
   "outputs": [
    {
     "name": "stdout",
     "output_type": "stream",
     "text": [
      "{'jen': 'python', 'harris': 'r', 'mike': 'ruby', 'maria': 'python'}\n"
     ]
    }
   ],
   "source": [
    "# long dictionaries\n",
    "favourite_languages = {\n",
    "    'jen' : 'python',\n",
    "    'harris' : 'r',\n",
    "    # it is considered good practice to add a comma after the last pair; you will be ready to add a new value on the next line!\n",
    "    'mike' : 'ruby',\n",
    "    'maria': 'python',\n",
    "}\n",
    "print(favourite_languages)"
   ]
  },
  {
   "cell_type": "markdown",
   "id": "41c93dbb",
   "metadata": {},
   "source": [
    "### Modifying a value"
   ]
  },
  {
   "cell_type": "code",
   "execution_count": 45,
   "id": "6e4a7f64",
   "metadata": {},
   "outputs": [
    {
     "name": "stdout",
     "output_type": "stream",
     "text": [
      "yellow\n"
     ]
    }
   ],
   "source": [
    "alien_0['color'] = 'yellow'\n",
    "print(alien_0['color'])"
   ]
  },
  {
   "cell_type": "markdown",
   "id": "6170de6b",
   "metadata": {},
   "source": [
    "### Removing a key-value pair"
   ]
  },
  {
   "cell_type": "code",
   "execution_count": 46,
   "id": "10d025fe",
   "metadata": {
    "scrolled": true
   },
   "outputs": [
    {
     "name": "stdout",
     "output_type": "stream",
     "text": [
      "{'color': 'yellow', 'points': 5}\n",
      "{'color': 'yellow'}\n"
     ]
    }
   ],
   "source": [
    "print(alien_0)\n",
    "del alien_0['points']\n",
    "print(alien_0)"
   ]
  },
  {
   "cell_type": "markdown",
   "id": "a05ea2e9",
   "metadata": {},
   "source": [
    "### Using `get()` to access values"
   ]
  },
  {
   "cell_type": "code",
   "execution_count": 47,
   "id": "514e8b60",
   "metadata": {},
   "outputs": [
    {
     "name": "stdout",
     "output_type": "stream",
     "text": [
      "No x_position value assigned.\n",
      "30\n",
      "None\n"
     ]
    }
   ],
   "source": [
    "alien_0 = {'color': 'green', 'points': 5, 'speed': 'slow', 'y': 30}\n",
    "# if the key does not exist, will procude a KeyError\n",
    "#print(alien_0['x_position'])\n",
    "\n",
    "# set a default value that will be returned if the key does not exist\n",
    "x_position_value = alien_0.get('x', 'No x_position value assigned.')\n",
    "print(x_position_value)\n",
    "y_position_value = alien_0.get('y', 'No y_position value assigned.')\n",
    "print(y_position_value)\n",
    "\n",
    "# if only the key argument is assigned it will return 'None' (= special value that indicates the absence of a value!)\n",
    "x_position_value = alien_0.get('x')\n",
    "print(x_position_value)"
   ]
  },
  {
   "cell_type": "markdown",
   "id": "ab1d409e",
   "metadata": {},
   "source": [
    "### Looping through a dictionary"
   ]
  },
  {
   "cell_type": "code",
   "execution_count": 48,
   "id": "a69cc443",
   "metadata": {
    "scrolled": true
   },
   "outputs": [
    {
     "data": {
      "text/plain": [
       "{'jen': 'python', 'harris': 'r', 'mike': 'ruby', 'maria': 'python'}"
      ]
     },
     "execution_count": 48,
     "metadata": {},
     "output_type": "execute_result"
    }
   ],
   "source": [
    "favourite_languages"
   ]
  },
  {
   "cell_type": "markdown",
   "id": "81a751f4",
   "metadata": {},
   "source": [
    "#### Looping through the whole dictionary, works well for dictionaries that stores the same kind of information for many different keys."
   ]
  },
  {
   "cell_type": "code",
   "execution_count": 49,
   "id": "98fc6ff2",
   "metadata": {
    "scrolled": true
   },
   "outputs": [
    {
     "name": "stdout",
     "output_type": "stream",
     "text": [
      "\n",
      "Key: jen\n",
      "Value: python\n",
      "\n",
      "Key: harris\n",
      "Value: r\n",
      "\n",
      "Key: mike\n",
      "Value: ruby\n",
      "\n",
      "Key: maria\n",
      "Value: python\n"
     ]
    }
   ],
   "source": [
    "for key, value in favourite_languages.items():\n",
    "    print(f'\\nKey: {key}')\n",
    "    print(f'Value: {value}')"
   ]
  },
  {
   "cell_type": "code",
   "execution_count": 50,
   "id": "5206945e",
   "metadata": {},
   "outputs": [
    {
     "name": "stdout",
     "output_type": "stream",
     "text": [
      "Jen's favourite language is python.\n",
      "Harris's favourite language is r.\n",
      "Mike's favourite language is ruby.\n",
      "Maria's favourite language is python.\n"
     ]
    }
   ],
   "source": [
    "for name, language in favourite_languages.items():\n",
    "    print(f\"{name.title()}'s favourite language is {language}.\")"
   ]
  },
  {
   "cell_type": "markdown",
   "id": "cde424b9",
   "metadata": {},
   "source": [
    "#### Looping through all keys."
   ]
  },
  {
   "cell_type": "code",
   "execution_count": 51,
   "id": "6f6ef568",
   "metadata": {
    "scrolled": true
   },
   "outputs": [
    {
     "name": "stdout",
     "output_type": "stream",
     "text": [
      "Jen\n",
      "Harris\n",
      "Mike\n",
      "Maria\n"
     ]
    }
   ],
   "source": [
    "for name in favourite_languages.keys():\n",
    "    print(name.title())"
   ]
  },
  {
   "cell_type": "markdown",
   "id": "ee8373ae",
   "metadata": {},
   "source": [
    "#### Looping through the keys is the default behaviour, you can use keys() if it makes the code easier to read."
   ]
  },
  {
   "cell_type": "code",
   "execution_count": 52,
   "id": "7d7ba2f5",
   "metadata": {
    "scrolled": true
   },
   "outputs": [
    {
     "name": "stdout",
     "output_type": "stream",
     "text": [
      "Jen\n",
      "Harris\n",
      "Mike\n",
      "Maria\n"
     ]
    }
   ],
   "source": [
    "for name in favourite_languages:\n",
    "    print(name.title())"
   ]
  },
  {
   "cell_type": "code",
   "execution_count": 53,
   "id": "6b791a03",
   "metadata": {},
   "outputs": [
    {
     "name": "stdout",
     "output_type": "stream",
     "text": [
      "Hi Jen.\n",
      "\tJen, I see you love Python!\n",
      "Hi Harris.\n",
      "Hi Mike.\n",
      "\tMike, I see you love Ruby!\n",
      "Hi Maria.\n"
     ]
    }
   ],
   "source": [
    "friends = ['jen', 'mike']\n",
    "\n",
    "for name in favourite_languages.keys():\n",
    "    print(f'Hi {name.title()}.')\n",
    "    \n",
    "    if name in friends:\n",
    "        language = favourite_languages[name].title()\n",
    "        print(f'\\t{name.title()}, I see you love {language}!')"
   ]
  },
  {
   "cell_type": "code",
   "execution_count": 54,
   "id": "5e6ef0bf",
   "metadata": {
    "scrolled": false
   },
   "outputs": [
    {
     "name": "stdout",
     "output_type": "stream",
     "text": [
      "Erin, please take our poll!\n"
     ]
    }
   ],
   "source": [
    "if 'erin' not in favourite_languages.keys():\n",
    "    print('Erin, please take our poll!')"
   ]
  },
  {
   "cell_type": "markdown",
   "id": "1fd5245a",
   "metadata": {},
   "source": [
    "#### Looping Through a Dictionary's Keys in a Particular Order."
   ]
  },
  {
   "cell_type": "code",
   "execution_count": 55,
   "id": "1d7b0c15",
   "metadata": {},
   "outputs": [
    {
     "name": "stdout",
     "output_type": "stream",
     "text": [
      "Hi Harris, thank you for taking the poll.\n",
      "Hi Jen, thank you for taking the poll.\n",
      "Hi Maria, thank you for taking the poll.\n",
      "Hi Mike, thank you for taking the poll.\n"
     ]
    }
   ],
   "source": [
    "for name in sorted(favourite_languages.keys()):\n",
    "    print(f\"Hi {name.title()}, thank you for taking the poll.\")"
   ]
  },
  {
   "cell_type": "markdown",
   "id": "12a3c6ff",
   "metadata": {},
   "source": [
    "#### Looping Through a Dictionary's Values."
   ]
  },
  {
   "cell_type": "code",
   "execution_count": 56,
   "id": "c869cb82",
   "metadata": {
    "scrolled": false
   },
   "outputs": [
    {
     "name": "stdout",
     "output_type": "stream",
     "text": [
      "The following languages have been mentioned:\n",
      "Python\n",
      "R\n",
      "Ruby\n",
      "Python\n"
     ]
    }
   ],
   "source": [
    "# values() method does not check for repeats!\n",
    "print(\"The following languages have been mentioned:\")\n",
    "for language in favourite_languages.values():\n",
    "    print(language.title())"
   ]
  },
  {
   "cell_type": "markdown",
   "id": "3972b0f9",
   "metadata": {},
   "source": [
    "#### A `set` is a collection where each item must be unique."
   ]
  },
  {
   "cell_type": "code",
   "execution_count": 57,
   "id": "a928838b",
   "metadata": {
    "scrolled": true
   },
   "outputs": [
    {
     "name": "stdout",
     "output_type": "stream",
     "text": [
      "The following languages have been mentioned:\n",
      "Python\n",
      "R\n",
      "Ruby\n"
     ]
    }
   ],
   "source": [
    "# report only unique values\n",
    "print(\"The following languages have been mentioned:\")\n",
    "for language in set(favourite_languages.values()):\n",
    "    print(language.title())"
   ]
  },
  {
   "cell_type": "code",
   "execution_count": 58,
   "id": "44eea1a5",
   "metadata": {},
   "outputs": [
    {
     "name": "stdout",
     "output_type": "stream",
     "text": [
      "{'c', 'python', 'r', 'ruby'}\n"
     ]
    }
   ],
   "source": [
    "# create a set\n",
    "languages = {'python', 'r', 'ruby', 'c', 'python', 'r'}\n",
    "print(languages)"
   ]
  },
  {
   "cell_type": "markdown",
   "id": "b03a86e3",
   "metadata": {},
   "source": [
    "### Nesting"
   ]
  },
  {
   "cell_type": "markdown",
   "id": "b22e244d",
   "metadata": {},
   "source": [
    "#### A List of Dictionaries"
   ]
  },
  {
   "cell_type": "code",
   "execution_count": 59,
   "id": "fbb618bc",
   "metadata": {
    "scrolled": true
   },
   "outputs": [],
   "source": [
    "alien_0 = {'color': 'green', 'points': 5}\n",
    "alien_1 = {'color': 'yellow', 'points': 10}\n",
    "alien_2 = {'color': 'red', 'points': 15}\n",
    "\n",
    "aliens = [alien_0, alien_1, alien_2]"
   ]
  },
  {
   "cell_type": "code",
   "execution_count": 60,
   "id": "b8a7f9c8",
   "metadata": {},
   "outputs": [
    {
     "name": "stdout",
     "output_type": "stream",
     "text": [
      "{'color': 'green', 'points': 5, 'speed': 'slow'}\n",
      "{'color': 'green', 'points': 5, 'speed': 'slow'}\n",
      "{'color': 'green', 'points': 5, 'speed': 'slow'}\n",
      "{'color': 'green', 'points': 5, 'speed': 'slow'}\n",
      "{'color': 'green', 'points': 5, 'speed': 'slow'}\n",
      "...\n",
      "\n",
      "Total number of aliens: 30\n"
     ]
    }
   ],
   "source": [
    "# a more realistic approach\n",
    "aliens = []\n",
    "\n",
    "# Make 30 aliens\n",
    "for alien_number in range(30):\n",
    "    new_alien = {'color': 'green', 'points': 5, 'speed': 'slow'}\n",
    "    aliens.append(new_alien)\n",
    "    \n",
    "# Show the first 5 aliens\n",
    "for alien in aliens[:5]:\n",
    "    print(alien)\n",
    "print('...')\n",
    "\n",
    "# Show how many aliens have been created\n",
    "print(f'\\nTotal number of aliens: {len(aliens)}')"
   ]
  },
  {
   "cell_type": "code",
   "execution_count": 61,
   "id": "3c7d61f9",
   "metadata": {},
   "outputs": [
    {
     "name": "stdout",
     "output_type": "stream",
     "text": [
      "{'color': 'yellow', 'points': 10, 'speed': 'medium'}\n",
      "{'color': 'yellow', 'points': 10, 'speed': 'medium'}\n",
      "{'color': 'yellow', 'points': 10, 'speed': 'medium'}\n",
      "{'color': 'green', 'points': 5, 'speed': 'slow'}\n",
      "{'color': 'green', 'points': 5, 'speed': 'slow'}\n"
     ]
    }
   ],
   "source": [
    "# modifying the first 3 aliens\n",
    "for alien in aliens[:3]:\n",
    "    if alien['color'] == 'green':\n",
    "        alien['color'] = 'yellow'\n",
    "        alien['points'] = 10\n",
    "        alien['speed'] = 'medium'\n",
    "\n",
    "for alien in aliens[:5]:\n",
    "    print(alien)"
   ]
  },
  {
   "cell_type": "markdown",
   "id": "da82cfdd",
   "metadata": {},
   "source": [
    "#### A List in a Dictionary"
   ]
  },
  {
   "cell_type": "markdown",
   "id": "8fe03b23",
   "metadata": {},
   "source": [
    "When you need to break up a long line in a `print()` call, choose an appropriate point at which to break the line being printed, and end the line with a quotation mark. Indent the next line, add an opening quotation mark, and continue the string."
   ]
  },
  {
   "cell_type": "code",
   "execution_count": 62,
   "id": "db729077",
   "metadata": {
    "scrolled": true
   },
   "outputs": [
    {
     "name": "stdout",
     "output_type": "stream",
     "text": [
      "You ordered a thick-crust pizza with the following toppings:\n",
      "\tmushrooms\n",
      "\textra cheese\n"
     ]
    }
   ],
   "source": [
    "# store info about a pizza being ordered\n",
    "pizza = {\n",
    "    'crust': 'thick',\n",
    "    'toppings': ['mushrooms', 'extra cheese'],\n",
    "}\n",
    "\n",
    "# summarize the order\n",
    "print(f\"You ordered a {pizza['crust']}-crust pizza \"\n",
    "      \"with the following toppings:\")\n",
    "\n",
    "for topping in pizza['toppings']:\n",
    "    print(f\"\\t{topping}\")"
   ]
  },
  {
   "cell_type": "code",
   "execution_count": 63,
   "id": "4ce9333f",
   "metadata": {},
   "outputs": [
    {
     "name": "stdout",
     "output_type": "stream",
     "text": [
      "\n",
      "Jen favorite languages are:\n",
      "\tPython\n",
      "\tR\n",
      "\n",
      "Sarah favorite language is:\n",
      "\tC\n",
      "\n",
      "Edward favorite languages are:\n",
      "\tRuby\n",
      "\tPython\n",
      "\n",
      "Phil favorite language is:\n",
      "\tPython\n"
     ]
    }
   ],
   "source": [
    "favorite_languages = {\n",
    "    'jen': ['python', 'r'],\n",
    "    'sarah': ['c'],\n",
    "    'edward': ['ruby', 'python'],\n",
    "    'phil': ['python'],\n",
    "}\n",
    "\n",
    "for name, languages in favorite_languages.items():\n",
    "    if len(languages) > 1:\n",
    "        print(f'\\n{name.title()} favorite languages are:')\n",
    "        for language in languages:\n",
    "            print(f'\\t{language.title()}')\n",
    "    else:\n",
    "        print(f'\\n{name.title()} favorite language is:')\n",
    "        for language in languages:\n",
    "            print(f'\\t{language.title()}')"
   ]
  },
  {
   "cell_type": "markdown",
   "id": "6d1c965e",
   "metadata": {},
   "source": [
    "#### A Dictionary in a Dictionary"
   ]
  },
  {
   "cell_type": "code",
   "execution_count": 64,
   "id": "8a670b45",
   "metadata": {},
   "outputs": [
    {
     "name": "stdout",
     "output_type": "stream",
     "text": [
      "\n",
      "Username: aeinstein\n",
      "\tFull name: albert einstein\n",
      "\tLocation: princeton\n",
      "\n",
      "Username: mcurie\n",
      "\tFull name: marie curie\n",
      "\tLocation: paris\n"
     ]
    }
   ],
   "source": [
    "users = {\n",
    "    'aeinstein': {\n",
    "        'first': 'albert',\n",
    "        'last': 'einstein',\n",
    "        'location': 'princeton',\n",
    "        },\n",
    "    'mcurie': {\n",
    "        'first': 'marie',\n",
    "        'last': 'curie',\n",
    "        'location': 'paris',\n",
    "        },\n",
    "}\n",
    "\n",
    "for username, user_info in users.items():\n",
    "    print(f'\\nUsername: {username}')\n",
    "    full_name = f\"{user_info['first']} {user_info['last']}\"\n",
    "    location = user_info['location']\n",
    "    \n",
    "    print(f'\\tFull name: {full_name}')\n",
    "    print(f'\\tLocation: {location}')"
   ]
  },
  {
   "cell_type": "markdown",
   "id": "03c10cfb",
   "metadata": {},
   "source": [
    "# Chapter 7: User Input and While Loops"
   ]
  },
  {
   "cell_type": "markdown",
   "id": "7bf763e7",
   "metadata": {},
   "source": [
    "### How the `input()` Function Works\n",
    "\n",
    "#### The `input()` Function takes one argument: the **prompt** (instructions)."
   ]
  },
  {
   "cell_type": "code",
   "execution_count": 65,
   "id": "b51be2fa",
   "metadata": {},
   "outputs": [
    {
     "ename": "KeyboardInterrupt",
     "evalue": "Interrupted by user",
     "output_type": "error",
     "traceback": [
      "\u001b[1;31m---------------------------------------------------------------------------\u001b[0m",
      "\u001b[1;31mKeyboardInterrupt\u001b[0m                         Traceback (most recent call last)",
      "\u001b[1;32m<ipython-input-65-8dfa18c9dddc>\u001b[0m in \u001b[0;36m<module>\u001b[1;34m\u001b[0m\n\u001b[1;32m----> 1\u001b[1;33m \u001b[0mmessage\u001b[0m \u001b[1;33m=\u001b[0m \u001b[0minput\u001b[0m\u001b[1;33m(\u001b[0m\u001b[1;34m'Tell me something, and I will repeat it back to you: '\u001b[0m\u001b[1;33m)\u001b[0m\u001b[1;33m\u001b[0m\u001b[1;33m\u001b[0m\u001b[0m\n\u001b[0m\u001b[0;32m      2\u001b[0m \u001b[0mprint\u001b[0m\u001b[1;33m(\u001b[0m\u001b[1;34mf'\\n{message}'\u001b[0m\u001b[1;33m)\u001b[0m\u001b[1;33m\u001b[0m\u001b[1;33m\u001b[0m\u001b[0m\n",
      "\u001b[1;32m~\\anaconda3\\lib\\site-packages\\ipykernel\\kernelbase.py\u001b[0m in \u001b[0;36mraw_input\u001b[1;34m(self, prompt)\u001b[0m\n\u001b[0;32m    858\u001b[0m                 \u001b[1;34m\"raw_input was called, but this frontend does not support input requests.\"\u001b[0m\u001b[1;33m\u001b[0m\u001b[1;33m\u001b[0m\u001b[0m\n\u001b[0;32m    859\u001b[0m             )\n\u001b[1;32m--> 860\u001b[1;33m         return self._input_request(str(prompt),\n\u001b[0m\u001b[0;32m    861\u001b[0m             \u001b[0mself\u001b[0m\u001b[1;33m.\u001b[0m\u001b[0m_parent_ident\u001b[0m\u001b[1;33m,\u001b[0m\u001b[1;33m\u001b[0m\u001b[1;33m\u001b[0m\u001b[0m\n\u001b[0;32m    862\u001b[0m             \u001b[0mself\u001b[0m\u001b[1;33m.\u001b[0m\u001b[0m_parent_header\u001b[0m\u001b[1;33m,\u001b[0m\u001b[1;33m\u001b[0m\u001b[1;33m\u001b[0m\u001b[0m\n",
      "\u001b[1;32m~\\anaconda3\\lib\\site-packages\\ipykernel\\kernelbase.py\u001b[0m in \u001b[0;36m_input_request\u001b[1;34m(self, prompt, ident, parent, password)\u001b[0m\n\u001b[0;32m    902\u001b[0m             \u001b[1;32mexcept\u001b[0m \u001b[0mKeyboardInterrupt\u001b[0m\u001b[1;33m:\u001b[0m\u001b[1;33m\u001b[0m\u001b[1;33m\u001b[0m\u001b[0m\n\u001b[0;32m    903\u001b[0m                 \u001b[1;31m# re-raise KeyboardInterrupt, to truncate traceback\u001b[0m\u001b[1;33m\u001b[0m\u001b[1;33m\u001b[0m\u001b[1;33m\u001b[0m\u001b[0m\n\u001b[1;32m--> 904\u001b[1;33m                 \u001b[1;32mraise\u001b[0m \u001b[0mKeyboardInterrupt\u001b[0m\u001b[1;33m(\u001b[0m\u001b[1;34m\"Interrupted by user\"\u001b[0m\u001b[1;33m)\u001b[0m \u001b[1;32mfrom\u001b[0m \u001b[1;32mNone\u001b[0m\u001b[1;33m\u001b[0m\u001b[1;33m\u001b[0m\u001b[0m\n\u001b[0m\u001b[0;32m    905\u001b[0m             \u001b[1;32mexcept\u001b[0m \u001b[0mException\u001b[0m \u001b[1;32mas\u001b[0m \u001b[0me\u001b[0m\u001b[1;33m:\u001b[0m\u001b[1;33m\u001b[0m\u001b[1;33m\u001b[0m\u001b[0m\n\u001b[0;32m    906\u001b[0m                 \u001b[0mself\u001b[0m\u001b[1;33m.\u001b[0m\u001b[0mlog\u001b[0m\u001b[1;33m.\u001b[0m\u001b[0mwarning\u001b[0m\u001b[1;33m(\u001b[0m\u001b[1;34m\"Invalid Message:\"\u001b[0m\u001b[1;33m,\u001b[0m \u001b[0mexc_info\u001b[0m\u001b[1;33m=\u001b[0m\u001b[1;32mTrue\u001b[0m\u001b[1;33m)\u001b[0m\u001b[1;33m\u001b[0m\u001b[1;33m\u001b[0m\u001b[0m\n",
      "\u001b[1;31mKeyboardInterrupt\u001b[0m: Interrupted by user"
     ]
    }
   ],
   "source": [
    "message = input('Tell me something, and I will repeat it back to you: ')\n",
    "print(f'\\n{message}')"
   ]
  },
  {
   "cell_type": "markdown",
   "id": "59148a4f",
   "metadata": {},
   "source": [
    "#### Write Clear Prompts"
   ]
  },
  {
   "cell_type": "code",
   "execution_count": null,
   "id": "3947c14e",
   "metadata": {},
   "outputs": [],
   "source": [
    "# clear, easy-to-follow prompt, add a space at the end of it\n",
    "name = input('Please enter your name: ')\n",
    "print(f'\\n{name}')"
   ]
  },
  {
   "cell_type": "code",
   "execution_count": null,
   "id": "1bd023f5",
   "metadata": {
    "scrolled": true
   },
   "outputs": [],
   "source": [
    "# longer than one line prompts\n",
    "prompt = 'If you tell us who you are, we can personalize the messages you see.'\n",
    "# the `+=` operator is a shorthand for `prompt = prompt + '\\nWhat is your first name? '\n",
    "prompt += '\\nWhat is your first name? '\n",
    "\n",
    "name = input(prompt)\n",
    "print(f'\\nHello, {name}!')"
   ]
  },
  {
   "cell_type": "markdown",
   "id": "ecc63b00",
   "metadata": {},
   "source": [
    "#### Python interprets everything inserted into the `input()` function as a string!\n",
    "#### Using `int()` to accept numerial input"
   ]
  },
  {
   "cell_type": "code",
   "execution_count": null,
   "id": "c1650149",
   "metadata": {},
   "outputs": [],
   "source": [
    "age = input('How old are you? ')\n",
    "age = int(age)\n",
    "print(age >= 18)"
   ]
  },
  {
   "cell_type": "markdown",
   "id": "330aa4df",
   "metadata": {},
   "source": [
    "#### The Modulo Operator (%) = the remainder"
   ]
  },
  {
   "cell_type": "code",
   "execution_count": null,
   "id": "a1716060",
   "metadata": {},
   "outputs": [],
   "source": [
    "number = input('Enter a number, and I will tell you if it is even or odd: ' )\n",
    "number = int(number)\n",
    "\n",
    "if number % 2 == 0:\n",
    "    print(f'The number {number} is even!')\n",
    "else: # number % 2 != 0\n",
    "    print(f'The number {number} is odd!')"
   ]
  },
  {
   "cell_type": "markdown",
   "id": "059a219b",
   "metadata": {},
   "source": [
    "### Introducing While Loops"
   ]
  },
  {
   "cell_type": "code",
   "execution_count": null,
   "id": "d249f47f",
   "metadata": {
    "scrolled": true
   },
   "outputs": [],
   "source": [
    "# the while loop in action\n",
    "current_number = 1\n",
    "while current_number <= 5:\n",
    "    print(current_number)\n",
    "    current_number += 1"
   ]
  },
  {
   "cell_type": "markdown",
   "id": "65817173",
   "metadata": {},
   "source": [
    "#### Letting the User Choose When to Quit"
   ]
  },
  {
   "cell_type": "code",
   "execution_count": null,
   "id": "af169bcd",
   "metadata": {
    "scrolled": true
   },
   "outputs": [],
   "source": [
    "prompt = '\\nTell me something, and I will repeat it back to you:'\n",
    "prompt += '\\nEnter \"quit\" to end the program. '\n",
    "\n",
    "# We set a variable message to keep track of whatever value the user enters, i.e. so the while loop has something to compare!\n",
    "message = ''\n",
    "while message != 'quit':\n",
    "    message = input(prompt)\n",
    "    # stop printing `quit` as if it was a message\n",
    "    if message != 'quit':\n",
    "        print(message)"
   ]
  },
  {
   "cell_type": "markdown",
   "id": "99b16c70",
   "metadata": {},
   "source": [
    "#### Using a Flag\n",
    "\n",
    "For a program that should run only as long as many conditions are True, you can define one variable that determines whether or not the entire program is active. This variable, called a **flag**, acts as a signal to the program."
   ]
  },
  {
   "cell_type": "code",
   "execution_count": null,
   "id": "354077bc",
   "metadata": {},
   "outputs": [],
   "source": [
    "active = True\n",
    "prompt = '\\nTell me something, and I will repeat it back to you:'\n",
    "prompt += '\\nEnter \"quit\" to end the program. '\n",
    "\n",
    "while active:\n",
    "    message = input(prompt)\n",
    "    # stop printing `quit` as if it was a message\n",
    "    if message == 'quit':\n",
    "        active = False\n",
    "    else: # message == 'quit'\n",
    "        print(message)"
   ]
  },
  {
   "cell_type": "markdown",
   "id": "d50f217b",
   "metadata": {},
   "source": [
    "#### Using Break to Exit the Loop\n",
    "\n",
    "To exit a `while` loop immediately without running any remaining code!"
   ]
  },
  {
   "cell_type": "code",
   "execution_count": null,
   "id": "8b7fbf2e",
   "metadata": {},
   "outputs": [],
   "source": [
    "prompt = '\\nPlease enter the name of a city you have visited:'\n",
    "prompt += '\\n(Enter \"quit\" when you are finished.)'\n",
    "\n",
    "# a loop which starts with `while True` will run forever unless it reaches a `break` statement!\n",
    "while True:\n",
    "    city = input(prompt)\n",
    "    \n",
    "    if city == 'quit':\n",
    "        break\n",
    "    else: # city != 'quit'\n",
    "        print(f'I would love to go to {city.title()}!')"
   ]
  },
  {
   "cell_type": "markdown",
   "id": "3baebca0",
   "metadata": {},
   "source": [
    "#### Using Continue in a Loop\n",
    "\n",
    "To return to the beginning of the loop based on the result of a conditional test."
   ]
  },
  {
   "cell_type": "code",
   "execution_count": null,
   "id": "f2aa4f9a",
   "metadata": {},
   "outputs": [],
   "source": [
    "current_number = 0\n",
    "while current_number < 10:\n",
    "    current_number += 1\n",
    "    if current_number % 2 == 0:\n",
    "        # if true, ignore the rest of the loop and start over (= do not print even numbers)\n",
    "        continue\n",
    "        \n",
    "    print(current_number)"
   ]
  },
  {
   "cell_type": "markdown",
   "id": "b9211c3f",
   "metadata": {},
   "source": [
    "#### Avoid Infinite Loops\n",
    "\n",
    "Every `while` loop needs a way to stop running so it won't continue to run forever!\n",
    "\n",
    "If happens on Sublime Text, click on the output area and press `Control+C`!"
   ]
  },
  {
   "cell_type": "markdown",
   "id": "fdd9aae7",
   "metadata": {},
   "source": [
    "### Using a While Loop With Lists and Dictionaries"
   ]
  },
  {
   "cell_type": "markdown",
   "id": "61f89b93",
   "metadata": {},
   "source": [
    "#### Moving Items From One List to Another"
   ]
  },
  {
   "cell_type": "code",
   "execution_count": null,
   "id": "a14f23cd",
   "metadata": {},
   "outputs": [],
   "source": [
    "# users that needs verification\n",
    "unconfirmed_users = ['alice', 'brian', 'candace']\n",
    "# empty list to move the verified users to\n",
    "confirmed_users = []\n",
    "\n",
    "# while the list has at least 1 element\n",
    "while unconfirmed_users:\n",
    "    # pop(): removes unverified users one at a time from the end of unconfirmed users\n",
    "    current_user = unconfirmed_users.pop()\n",
    "    \n",
    "    print(f'Verifying user: {current_user.title()}')\n",
    "    confirmed_users.append(current_user)\n",
    "    \n",
    "# display all confirmed users\n",
    "print('\\nThe following users have been confirmed:')\n",
    "for confirmed_user in confirmed_users:\n",
    "    print(confirmed_user.title())\n",
    "\n"
   ]
  },
  {
   "cell_type": "markdown",
   "id": "8bec5c59",
   "metadata": {},
   "source": [
    "#### Removing All Instances of Specific Values From a List"
   ]
  },
  {
   "cell_type": "code",
   "execution_count": null,
   "id": "712d07ce",
   "metadata": {},
   "outputs": [],
   "source": [
    "pets = ['cat', 'dog', 'cat', 'rabbit', 'cat']\n",
    "print(pets)\n",
    "\n",
    "while 'cat' in pets:\n",
    "    pets.remove('cat')\n",
    "    \n",
    "print(pets)"
   ]
  },
  {
   "cell_type": "markdown",
   "id": "e2e4e4b9",
   "metadata": {},
   "source": [
    "#### Filling a Dictionary with User Input"
   ]
  },
  {
   "cell_type": "code",
   "execution_count": null,
   "id": "3dac00f9",
   "metadata": {},
   "outputs": [],
   "source": [
    "responses = {}\n",
    "\n",
    "# set a flag to indicate the the polling is active\n",
    "polling_active = True\n",
    "\n",
    "while polling_active:\n",
    "    # prompt for the person's name and response\n",
    "    name = input('What is you name? ')\n",
    "    response = input('Which mountain would you like to climb someday? ')\n",
    "    \n",
    "    # store the response in the dictionary\n",
    "    responses[name] = response\n",
    "    \n",
    "    # find out if anyone else is going to take the poll\n",
    "    repeat = input('Would you like to let another person respond? (yes/no) ')\n",
    "    if repeat == 'no':\n",
    "        polling_active = False\n",
    "        \n",
    "# polling is complete\n",
    "print('\\n--- Poll results ---')\n",
    "\n",
    "for name, response in responses.items():\n",
    "    print(f'{name} would like to climb {response}.')"
   ]
  },
  {
   "cell_type": "markdown",
   "id": "2e3dceaf",
   "metadata": {},
   "source": [
    "# Chapter 8: Functions"
   ]
  },
  {
   "cell_type": "markdown",
   "id": "2d533b43",
   "metadata": {},
   "source": [
    "## Defining a Function"
   ]
  },
  {
   "cell_type": "markdown",
   "id": "cc68a30d",
   "metadata": {},
   "source": [
    "**Parameter**: a piece of info the function needs to do its job (e.g. the variable \"username\").  \n",
    "**Argument**: a piece of info that is passed from a function call to a function (e.g. \"jesse\"). \n",
    "\n",
    "e.g. the argument 'jesse' was passed to the function greet_user, and the value was assigned to the parameter username."
   ]
  },
  {
   "cell_type": "code",
   "execution_count": null,
   "id": "b1ca8310",
   "metadata": {},
   "outputs": [],
   "source": [
    "# the function definition\n",
    "def greet_user(username):\n",
    "    \n",
    "    # the body of the function\n",
    "    \"\"\"Display a simple greeting.\"\"\"\n",
    "    print(f'Hello, {username}!')\n",
    "    \n",
    "    \n",
    "greet_user('Harris')"
   ]
  },
  {
   "cell_type": "markdown",
   "id": "0fdcc9c3",
   "metadata": {},
   "source": [
    "## Passing arguments\n",
    "\n",
    "**Positional arguments**: needs to be in the same order the parameters were written.  "
   ]
  },
  {
   "cell_type": "code",
   "execution_count": null,
   "id": "e00a66f7",
   "metadata": {},
   "outputs": [],
   "source": [
    "def describe_pets(animal_type, pet_name):\n",
    "    \"\"\"\n",
    "    Display information about a pet.\n",
    "    \"\"\"\n",
    "    \n",
    "    print(f'\\nI have a {animal_type}.')\n",
    "    print(f\"My {animal_type}'s name is {pet_name.title()}.\")\n",
    "    \n",
    "    \n",
    "describe_pets('dog', 'molly')"
   ]
  },
  {
   "cell_type": "markdown",
   "id": "4e96f446",
   "metadata": {},
   "source": [
    "**Keyword arguments**: each arg consists of a variable name and a value."
   ]
  },
  {
   "cell_type": "code",
   "execution_count": null,
   "id": "08fe324a",
   "metadata": {
    "scrolled": false
   },
   "outputs": [],
   "source": [
    "describe_pets(pet_name = 'molly', animal_type = 'dog')"
   ]
  },
  {
   "cell_type": "markdown",
   "id": "3d7ed926",
   "metadata": {},
   "source": [
    "**Default values**: Any parameter with a default value needs to be listed after all the parameters that don't have default values. This allows Python to continue interpreting positional arguments correctly."
   ]
  },
  {
   "cell_type": "code",
   "execution_count": null,
   "id": "d56a8f3d",
   "metadata": {},
   "outputs": [],
   "source": [
    "# parameter with default value after parameters without default value\n",
    "def describe_pets(pet_name, animal_type = 'dog'):\n",
    "    \"\"\"\n",
    "    Display information about a pet.\n",
    "    \"\"\"\n",
    "    \n",
    "    print(f'\\nI have a {animal_type}.')\n",
    "    print(f\"My {animal_type}'s name is {pet_name.title()}.\")\n",
    "    \n",
    "    \n",
    "describe_pets('molly')"
   ]
  },
  {
   "cell_type": "code",
   "execution_count": null,
   "id": "2a6eb4b9",
   "metadata": {
    "scrolled": true
   },
   "outputs": [],
   "source": [
    "# parameter with default value before parameters without default value\n",
    "def describe_pets(animal_type = 'dog', pet_name):\n",
    "    \"\"\"\n",
    "    Display information about a pet.\n",
    "    \"\"\"\n",
    "    \n",
    "    print(f'\\nI have a {animal_type}.')\n",
    "    print(f\"My {animal_type}'s name is {pet_name.title()}.\")\n",
    "    \n",
    "    \n",
    "describe_pets('molly')"
   ]
  },
  {
   "cell_type": "markdown",
   "id": "f1b57fa1",
   "metadata": {},
   "source": [
    "## Return Values"
   ]
  },
  {
   "cell_type": "code",
   "execution_count": null,
   "id": "17b4e2e4",
   "metadata": {},
   "outputs": [],
   "source": [
    "def get_formatted_name(first_name, last_name):\n",
    "    \"\"\"\n",
    "    Return a full name, neatly formatted.\n",
    "    \"\"\"\n",
    "    \n",
    "    full_name = f'{first_name} {last_name}'\n",
    "    return full_name.title()\n",
    "\n",
    "# when you call a function that returns a value, you need to provide a variable that the return value can be assigned to\n",
    "musician = get_formatted_name('jimi', 'hendrix')\n",
    "print(musician)"
   ]
  },
  {
   "cell_type": "code",
   "execution_count": null,
   "id": "17d78fa0",
   "metadata": {},
   "outputs": [],
   "source": [
    "# make optional arguements\n",
    "def get_formatted_name(first_name, last_name, middle_name = ''):\n",
    "    \"\"\"\n",
    "    Return a full name, neatly formatted.\n",
    "    \"\"\"\n",
    "    # Python interprets non-empty strings as True\n",
    "    if middle_name:\n",
    "        full_name = f'{first_name} {middle_name} {last_name}'\n",
    "    else: \n",
    "        full_name = f'{first_name} {last_name}'\n",
    "    return full_name.title()\n",
    "\n",
    "# when you call a function that returns a value, you need to provide a variable that the return value can be assigned to\n",
    "musician = get_formatted_name('jimi', 'hendrix')\n",
    "print(musician)\n",
    "\n",
    "musician = get_formatted_name('jimi', 'hendrix', 'lee')\n",
    "print(musician)"
   ]
  },
  {
   "cell_type": "markdown",
   "id": "c9b69df6",
   "metadata": {},
   "source": [
    "#### Returning a dictionary"
   ]
  },
  {
   "cell_type": "code",
   "execution_count": null,
   "id": "dcef0384",
   "metadata": {},
   "outputs": [],
   "source": [
    "# age as a new optional parameter, \"None\" as a placeholder value, evaluates to False\n",
    "def build_person(first_name, last_name, age=None):\n",
    "    \"\"\"\n",
    "    Return a dictionary of information about a person.\n",
    "    \"\"\"\n",
    "    person = {'first': first_name, 'last': last_name}\n",
    "    if age:\n",
    "        person['age'] = age\n",
    "    return person\n",
    "\n",
    "musician = build_person('jimi', 'hendrix', age = 27)\n",
    "print(musician)"
   ]
  },
  {
   "cell_type": "markdown",
   "id": "17120b8f",
   "metadata": {},
   "source": [
    "#### Using a Function with a `while` loop"
   ]
  },
  {
   "cell_type": "code",
   "execution_count": null,
   "id": "7a05a307",
   "metadata": {
    "scrolled": false
   },
   "outputs": [],
   "source": [
    "def get_formatted_name(first_name, last_name):\n",
    "    \"\"\"\n",
    "    Return a full name, neatly formatted.\n",
    "    \"\"\"\n",
    "    full_name = f'{first_name} {last_name}'\n",
    "    return full_name.title()\n",
    "\n",
    "while True:\n",
    "    \n",
    "    print('\\nPlease tell me your name:')\n",
    "    print('(enter \"q\" at any time to quit)')\n",
    "    \n",
    "    f_name = input('First_name: ')\n",
    "    if f_name == \"q\":\n",
    "        break\n",
    "        \n",
    "    l_name = input('Last_name: ')\n",
    "    if l_name == \"q\":\n",
    "        break\n",
    "        \n",
    "    formatted_name = get_formatted_name(f_name, l_name)\n",
    "    print(f'\\nHello, {formatted_name}!')"
   ]
  },
  {
   "cell_type": "markdown",
   "id": "877d11bb",
   "metadata": {},
   "source": [
    "### Passing a List"
   ]
  },
  {
   "cell_type": "code",
   "execution_count": 67,
   "id": "3fc98d4d",
   "metadata": {},
   "outputs": [
    {
     "name": "stdout",
     "output_type": "stream",
     "text": [
      "Hello, Harris.\n",
      "Hello, Maria.\n",
      "Hello, Sam.\n"
     ]
    }
   ],
   "source": [
    "def greet_users(names):\n",
    "    \"\"\"\n",
    "    Print a simple greeting to each user in the list.\n",
    "    \"\"\"\n",
    "    for name in names:\n",
    "        message = f'Hello, {name.title()}.'\n",
    "        print(message)\n",
    "        \n",
    "\n",
    "usernames = ['harris', 'maria', 'sam']\n",
    "greet_users(usernames)"
   ]
  },
  {
   "cell_type": "markdown",
   "id": "d15a9b3b",
   "metadata": {},
   "source": [
    "### Modifying a List"
   ]
  },
  {
   "cell_type": "code",
   "execution_count": 72,
   "id": "85c674c7",
   "metadata": {
    "scrolled": true
   },
   "outputs": [
    {
     "name": "stdout",
     "output_type": "stream",
     "text": [
      "Currently printing: Dodecahedron.\n",
      "Currently printing: Robot Pendant.\n",
      "Currently printing: Phone Case.\n",
      "\n",
      "The following models have been printed:\n",
      "Dodecahedron\n",
      "Robot Pendant\n",
      "Phone Case\n"
     ]
    }
   ],
   "source": [
    "# designs that need to be printed\n",
    "unprinted_designs = ['phone case', 'robot pendant', 'dodecahedron']\n",
    "completed_models = []\n",
    "\n",
    "# simulate printing each design, until none left\n",
    "while unprinted_designs:\n",
    "    current_design = unprinted_designs.pop()\n",
    "    print(f'Currently printing: {current_design.title()}.')\n",
    "    completed_models.append(current_design)\n",
    "\n",
    "# display all models\n",
    "print(f'\\nThe following models have been printed:')\n",
    "for design in completed_models:\n",
    "    print(design.title())\n",
    "    "
   ]
  },
  {
   "cell_type": "markdown",
   "id": "106af938",
   "metadata": {},
   "source": [
    "#### Every function must have just one specific job!"
   ]
  },
  {
   "cell_type": "code",
   "execution_count": 74,
   "id": "d01b6591",
   "metadata": {},
   "outputs": [
    {
     "name": "stdout",
     "output_type": "stream",
     "text": [
      "Currently printing: Dodecahedron.\n",
      "Currently printing: Robot Pendant.\n",
      "Currently printing: Phone Case.\n",
      "\n",
      "The following models have been printed:\n",
      "Dodecahedron\n",
      "Robot Pendant\n",
      "Phone Case\n"
     ]
    }
   ],
   "source": [
    "def print_models(unprinted_designs, completed_models):\n",
    "    \"\"\"\n",
    "    Simulate printing each design, until none are left.\n",
    "    Move each design to completed_models after printing.\n",
    "    \"\"\"\n",
    "    while unprinted_designs:\n",
    "        current_design = unprinted_designs.pop()\n",
    "        print(f'Currently printing: {current_design.title()}.')\n",
    "        completed_models.append(current_design)\n",
    "        \n",
    "def show_completed_models(completed_models):\n",
    "    \"\"\"Show all the models that were printed.\"\"\"\n",
    "    print(f'\\nThe following models have been printed:')\n",
    "    for design in completed_models:\n",
    "        print(design.title())\n",
    "        \n",
    "unprinted_designs = ['phone case', 'robot pendant', 'dodecahedron']\n",
    "completed_models = []\n",
    "\n",
    "print_models(unprinted_designs, completed_models)\n",
    "show_completed_models(completed_models)"
   ]
  },
  {
   "cell_type": "markdown",
   "id": "40d22c7f",
   "metadata": {},
   "source": [
    "### Preventing a function from modifying a list\n",
    "Only if there is a specific reason!"
   ]
  },
  {
   "cell_type": "code",
   "execution_count": 82,
   "id": "3503df9d",
   "metadata": {},
   "outputs": [
    {
     "name": "stdout",
     "output_type": "stream",
     "text": [
      "Currently printing: Dodecahedron.\n",
      "Currently printing: Robot Pendant.\n",
      "Currently printing: Phone Case.\n",
      "\n",
      "The following models have been printed:\n",
      "Dodecahedron\n",
      "Robot Pendant\n",
      "Phone Case\n",
      "\n",
      "['phone case', 'robot pendant', 'dodecahedron']\n"
     ]
    }
   ],
   "source": [
    "# call a copy of the list to the function\n",
    "unprinted_designs = ['phone case', 'robot pendant', 'dodecahedron']\n",
    "completed_models = []\n",
    "\n",
    "print_models(unprinted_designs[:], completed_models)\n",
    "show_completed_models(completed_models)\n",
    "\n",
    "print(f'\\n{unprinted_designs}')"
   ]
  },
  {
   "cell_type": "markdown",
   "id": "c65a13d9",
   "metadata": {},
   "source": [
    "### Passing an Arbitrary Number of Arguments"
   ]
  },
  {
   "cell_type": "code",
   "execution_count": 4,
   "id": "7ed3cd51",
   "metadata": {},
   "outputs": [
    {
     "name": "stdout",
     "output_type": "stream",
     "text": [
      "\n",
      "Making a pizza with the following toppings:\n",
      " - pepperoni\n",
      "\n",
      "Making a pizza with the following toppings:\n",
      " - mushrooms\n",
      " - extra cheese\n",
      " - pepperoni\n"
     ]
    }
   ],
   "source": [
    "# * = make an emtpy tuple called toppings and pack whatever values it receives into it\n",
    "def make_pizza(*toppings):\n",
    "    \"\"\"\n",
    "    Summarize the pizza we are about to make.\n",
    "    \"\"\"\n",
    "    print('\\nMaking a pizza with the following toppings:')\n",
    "    for topping in toppings:\n",
    "        print(f' - {topping}')\n",
    "    \n",
    "make_pizza('pepperoni')\n",
    "make_pizza('mushrooms', 'extra cheese', 'pepperoni')"
   ]
  },
  {
   "cell_type": "markdown",
   "id": "22f06fa5",
   "metadata": {},
   "source": [
    "#### Mixing Positional and Arbitrary Arguments\n",
    "Python matches positional and keyword arguments first and then collects any remaining arguments in the final parameter; arbitrary arguments must be placed last!\n",
    "\n",
    "*args = arbitrary positional arguments"
   ]
  },
  {
   "cell_type": "code",
   "execution_count": 7,
   "id": "9bd0c3e9",
   "metadata": {
    "scrolled": true
   },
   "outputs": [
    {
     "name": "stdout",
     "output_type": "stream",
     "text": [
      "\n",
      "Making a 12-inch pizza with the following toppings:\n",
      " - pepperoni\n",
      "\n",
      "Making a 10-inch pizza with the following toppings:\n",
      " - mushrooms\n",
      " - extra cheese\n",
      " - pepperoni\n"
     ]
    }
   ],
   "source": [
    "def make_pizza(size, *toppings):\n",
    "    \"\"\"\n",
    "    Summarize the pizza we are about to make.\n",
    "    \"\"\"\n",
    "    print(f'\\nMaking a {size}-inch pizza with the following toppings:')\n",
    "    for topping in toppings:\n",
    "        print(f' - {topping}')\n",
    "    \n",
    "make_pizza(12, 'pepperoni')\n",
    "make_pizza(10, 'mushrooms', 'extra cheese', 'pepperoni')"
   ]
  },
  {
   "cell_type": "markdown",
   "id": "897ed628",
   "metadata": {},
   "source": [
    "#### Using Arbitrary Keyword Arguments\n",
    "\\**kwargs = non-specific keyword arguments"
   ]
  },
  {
   "cell_type": "code",
   "execution_count": 8,
   "id": "4d8a373f",
   "metadata": {},
   "outputs": [
    {
     "name": "stdout",
     "output_type": "stream",
     "text": [
      "{'location': 'princeton', 'field': 'physics', 'first_name': 'albert', 'last_name': 'einstein'}\n"
     ]
    }
   ],
   "source": [
    "# ** = create an empty dictionary and pack whatever key-value pais you receive into it\n",
    "def build_profile(first, last, **user_info):\n",
    "    \"\"\"\n",
    "    Build a dictionary containing everything we know about a user.\n",
    "    \"\"\"\n",
    "    user_info['first_name']= first\n",
    "    user_info['last_name']= last\n",
    "    return user_info\n",
    "\n",
    "user_profile = build_profile('albert', 'einstein', location = 'princeton', field = 'physics')\n",
    "print(user_profile)"
   ]
  },
  {
   "cell_type": "markdown",
   "id": "d059deca",
   "metadata": {},
   "source": [
    "## Storing Your Functions in Modules"
   ]
  },
  {
   "cell_type": "code",
   "execution_count": null,
   "id": "9a8c8a97",
   "metadata": {},
   "outputs": [],
   "source": [
    "# create a function and store it as 'pizza.py'\n",
    "def make_pizza(size, *toppings):\n",
    "    \"\"\"Summarize the pizza we are about to make.\"\"\"\n",
    "    print(f'Making a {size}-inch pizza with the following toppings:')\n",
    "    for topping in toppings:\n",
    "        print(f'- {topping}')"
   ]
  },
  {
   "cell_type": "markdown",
   "id": "ba29572e",
   "metadata": {},
   "source": [
    "#### Importing an entire module"
   ]
  },
  {
   "cell_type": "code",
   "execution_count": 10,
   "id": "829d1b35",
   "metadata": {
    "scrolled": true
   },
   "outputs": [
    {
     "name": "stdout",
     "output_type": "stream",
     "text": [
      "Making a 16-inch pizza with the following toppings:\n",
      "- pepperoni\n",
      "Making a 12-inch pizza with the following toppings:\n",
      "- mushrooms\n",
      "- extra cheese\n"
     ]
    }
   ],
   "source": [
    "# create a new .py file in the same directory as 'pizza.py'\n",
    "\n",
    "# import all functions from the module pizza\n",
    "import pizza\n",
    "\n",
    "pizza.make_pizza(16, 'pepperoni')\n",
    "pizza.make_pizza(12, 'mushrooms', 'extra cheese')"
   ]
  },
  {
   "cell_type": "markdown",
   "id": "be13c1d4",
   "metadata": {},
   "source": [
    "#### Importing specific functions"
   ]
  },
  {
   "cell_type": "code",
   "execution_count": 13,
   "id": "b2a4f5e3",
   "metadata": {
    "scrolled": true
   },
   "outputs": [
    {
     "name": "stdout",
     "output_type": "stream",
     "text": [
      "Making a 16-inch pizza with the following toppings:\n",
      "- pepperoni\n",
      "Making a 12-inch pizza with the following toppings:\n",
      "- mushrooms\n",
      "- extra cheese\n"
     ]
    }
   ],
   "source": [
    "# you can import multiple functions: from module_name import function_0, function_1, ...\n",
    "from pizza import make_pizza\n",
    "\n",
    "# we don't need to use the dot notation with this syntax\n",
    "make_pizza(16, 'pepperoni')\n",
    "make_pizza(12, 'mushrooms', 'extra cheese')"
   ]
  },
  {
   "cell_type": "markdown",
   "id": "c7c7e845",
   "metadata": {},
   "source": [
    "#### Using `as` to give a Function or a Module an Alias"
   ]
  },
  {
   "cell_type": "code",
   "execution_count": 12,
   "id": "cae5c5e9",
   "metadata": {},
   "outputs": [
    {
     "name": "stdout",
     "output_type": "stream",
     "text": [
      "Making a 16-inch pizza with the following toppings:\n",
      "- pepperoni\n",
      "Making a 12-inch pizza with the following toppings:\n",
      "- mushrooms\n",
      "- extra cheese\n"
     ]
    }
   ],
   "source": [
    "from pizza import make_pizza as mp\n",
    "\n",
    "mp(16, 'pepperoni')\n",
    "mp(12, 'mushrooms', 'extra cheese')"
   ]
  },
  {
   "cell_type": "code",
   "execution_count": 14,
   "id": "cf8db73d",
   "metadata": {},
   "outputs": [
    {
     "name": "stdout",
     "output_type": "stream",
     "text": [
      "Making a 16-inch pizza with the following toppings:\n",
      "- pepperoni\n",
      "Making a 12-inch pizza with the following toppings:\n",
      "- mushrooms\n",
      "- extra cheese\n"
     ]
    }
   ],
   "source": [
    "import pizza as pz\n",
    "\n",
    "pz.make_pizza(16, 'pepperoni')\n",
    "pz.make_pizza(12, 'mushrooms', 'extra cheese')"
   ]
  },
  {
   "cell_type": "markdown",
   "id": "68c6b288",
   "metadata": {},
   "source": [
    "#### Import All Functions in a Module\n",
    "\n",
    "The `*` tells Python to copy every function from the module into this program file. Because every function is imported, you can call each function by name without using the dot notation.\n",
    "\n",
    "It can cause problems or overwrite functions or variables!\n",
    "\n",
    "The best approach is to import the function(s) you need, or import the entire module and use the dot notation."
   ]
  },
  {
   "cell_type": "code",
   "execution_count": 15,
   "id": "d69860f2",
   "metadata": {},
   "outputs": [
    {
     "name": "stdout",
     "output_type": "stream",
     "text": [
      "Making a 16-inch pizza with the following toppings:\n",
      "- pepperoni\n"
     ]
    }
   ],
   "source": [
    "from pizza import *\n",
    "\n",
    "make_pizza(16, 'pepperoni')"
   ]
  },
  {
   "cell_type": "markdown",
   "id": "4089eade",
   "metadata": {},
   "source": [
    "### Styling Functions\n",
    "\n",
    "If you specify a default value for a parameter, no spaces should be used on either side of the equal sign."
   ]
  },
  {
   "cell_type": "code",
   "execution_count": 16,
   "id": "b9990018",
   "metadata": {},
   "outputs": [
    {
     "ename": "SyntaxError",
     "evalue": "invalid syntax (<ipython-input-16-06b7f7d04bf2>, line 1)",
     "output_type": "error",
     "traceback": [
      "\u001b[1;36m  File \u001b[1;32m\"<ipython-input-16-06b7f7d04bf2>\"\u001b[1;36m, line \u001b[1;32m1\u001b[0m\n\u001b[1;33m    def function_name(parameter_0,parameter_1='default value')\u001b[0m\n\u001b[1;37m                                                              ^\u001b[0m\n\u001b[1;31mSyntaxError\u001b[0m\u001b[1;31m:\u001b[0m invalid syntax\n"
     ]
    }
   ],
   "source": [
    "def function_name(parameter_0,parameter_1='default value')"
   ]
  },
  {
   "cell_type": "markdown",
   "id": "1aac2592",
   "metadata": {},
   "source": [
    "The same convention should be used for keyword arguments in function calls."
   ]
  },
  {
   "cell_type": "code",
   "execution_count": null,
   "id": "547077bc",
   "metadata": {},
   "outputs": [],
   "source": [
    "function_name(value_0, parameter_1='value')"
   ]
  },
  {
   "cell_type": "markdown",
   "id": "734d97f1",
   "metadata": {},
   "source": [
    "If too much parameters, press tab twice to seperate the list of arguments from the function body."
   ]
  },
  {
   "cell_type": "code",
   "execution_count": null,
   "id": "573a7048",
   "metadata": {},
   "outputs": [],
   "source": [
    "def function_name(\n",
    "        parameter_0, parameter_1, parameter_2,\n",
    "        parameter_3, parameter_4, parameter_5):\n",
    "    function_body"
   ]
  },
  {
   "cell_type": "markdown",
   "id": "d6b4eab4",
   "metadata": {},
   "source": [
    "If your program or module has more than one function, you can seperate each by 2 blank lines.\n",
    "\n",
    "All import statements should be written at the beginning of a file, unless you use comments to describe the overall program."
   ]
  },
  {
   "cell_type": "markdown",
   "id": "6433bb63",
   "metadata": {},
   "source": [
    "# Chapter 9: Classes\n",
    "\n",
    "**Classes** represent real-world things and situations, and you create **objects** based on these classes.\n",
    "\n",
    "Making an object from a class is called **instantiation**, and you work with **instances** of a class."
   ]
  },
  {
   "cell_type": "markdown",
   "id": "7e9e5c3d",
   "metadata": {},
   "source": [
    "## Creating and Using a Class\n",
    "\n",
    "A function that is part of a class is a **method**. \n",
    "\n",
    "The `__init__()` method is a  special method that Python runs automatically whenever we create a new instance based on the Dog Class.\n",
    "\n",
    "The `self` parameter is required in the method definition, and it must come first. It is passed automatically.\n",
    "\n",
    "Any variable prefixed with `self` is available to every method in the class; these are called **attributes**."
   ]
  },
  {
   "cell_type": "code",
   "execution_count": 1,
   "id": "15e23238",
   "metadata": {},
   "outputs": [],
   "source": [
    "# by convention, capitalized names refer to classes!\n",
    "class Dog:\n",
    "    \"\"\"A simple attempt to model a dog.\"\"\"\n",
    "    \n",
    "    def __init__(self, name, age):\n",
    "        \"\"\"Initialize name and age attributes.\"\"\"\n",
    "        self.name = name\n",
    "        self.age = age\n",
    "        \n",
    "    def sit(self):\n",
    "        \"\"\"Simulate a dog sitting in response to a command.\"\"\"\n",
    "        print(f'{self.name} is now sitting.')\n",
    "        \n",
    "    def roll_over(self):\n",
    "        \"\"\"Simulate rolling over in response to a command.\"\"\"\n",
    "        print(f'{self.name} rolled over!')\n",
    "        \n",
    "        "
   ]
  },
  {
   "cell_type": "markdown",
   "id": "55eaa46b",
   "metadata": {},
   "source": [
    "## Making an Instance from a Class"
   ]
  },
  {
   "cell_type": "code",
   "execution_count": 2,
   "id": "ef9f6c18",
   "metadata": {
    "scrolled": true
   },
   "outputs": [
    {
     "name": "stdout",
     "output_type": "stream",
     "text": [
      "My dog's name is Molly.\n",
      "My dog is 2 years old.\n"
     ]
    }
   ],
   "source": [
    "my_dog = Dog('Molly', 2)\n",
    "\n",
    "# dot.notation for accessing attibutes\n",
    "print(f\"My dog's name is {my_dog.name}.\")\n",
    "print(f\"My dog is {my_dog.age} years old.\")"
   ]
  },
  {
   "cell_type": "code",
   "execution_count": 4,
   "id": "c7d61d9b",
   "metadata": {},
   "outputs": [
    {
     "name": "stdout",
     "output_type": "stream",
     "text": [
      "Molly is now sitting.\n",
      "Molly rolled over!\n"
     ]
    }
   ],
   "source": [
    "# calling methods\n",
    "my_dog.sit()\n",
    "my_dog.roll_over()"
   ]
  },
  {
   "cell_type": "markdown",
   "id": "5ae6c99a",
   "metadata": {},
   "source": [
    "## Working with Classes and Instances"
   ]
  },
  {
   "cell_type": "code",
   "execution_count": 5,
   "id": "474028be",
   "metadata": {
    "scrolled": true
   },
   "outputs": [
    {
     "name": "stdout",
     "output_type": "stream",
     "text": [
      "2019 Audi A4\n"
     ]
    }
   ],
   "source": [
    "class Car:\n",
    "    \"\"\"A simple attempt to represent a car.\"\"\"\n",
    "    \n",
    "    def __init__(self, make, model, year):\n",
    "        \"\"\"Initialize attributes to describe a car.\"\"\"\n",
    "        self.make = make\n",
    "        self.model = model\n",
    "        self.year = year\n",
    "        \n",
    "    def get_descriptive_name(self):\n",
    "        \"\"\"Return a neatly formatted descriptive name.\"\"\"\n",
    "        long_name = f\"{self.year} {self.make} {self.model}\"\n",
    "        return long_name.title()\n",
    "    \n",
    "    \n",
    "my_new_car = Car('audi', 'a4', 2019)\n",
    "print(my_new_car.get_descriptive_name())"
   ]
  },
  {
   "cell_type": "markdown",
   "id": "8f1a4100",
   "metadata": {},
   "source": [
    "### Setting a Default Value for an Attribute"
   ]
  },
  {
   "cell_type": "code",
   "execution_count": 6,
   "id": "59f2dc55",
   "metadata": {},
   "outputs": [
    {
     "name": "stdout",
     "output_type": "stream",
     "text": [
      "2019 Audi A4\n",
      "This car has 0 miles on it.\n"
     ]
    }
   ],
   "source": [
    "class Car:\n",
    "    \"\"\"A simple attempt to represent a car.\"\"\"\n",
    "    \n",
    "    def __init__(self, make, model, year):\n",
    "        \"\"\"Initialize attributes to describe a car.\"\"\"\n",
    "        self.make = make\n",
    "        self.model = model\n",
    "        self.year = year\n",
    "        # setting a default value for an attribute\n",
    "        self.odometer_reading = 0\n",
    "        \n",
    "    def get_descriptive_name(self):\n",
    "        \"\"\"Return a neatly formatted descriptive name.\"\"\"\n",
    "        long_name = f\"{self.year} {self.make} {self.model}\"\n",
    "        return long_name.title()\n",
    "    \n",
    "    def read_odometer(self):\n",
    "        \"\"\"Print a statement showing the car's mileage.\"\"\"\n",
    "        print(f\"This car has {self.odometer_reading} miles on it.\")\n",
    "    \n",
    "    \n",
    "my_new_car = Car('audi', 'a4', 2019)\n",
    "print(my_new_car.get_descriptive_name())\n",
    "my_new_car.read_odometer()"
   ]
  },
  {
   "cell_type": "markdown",
   "id": "893e3ac1",
   "metadata": {},
   "source": [
    "### Modifying Attribute Value"
   ]
  },
  {
   "cell_type": "markdown",
   "id": "49c5c3f2",
   "metadata": {},
   "source": [
    "#### Modifying an Attribute's Value Directly"
   ]
  },
  {
   "cell_type": "code",
   "execution_count": 7,
   "id": "3e20c414",
   "metadata": {},
   "outputs": [
    {
     "name": "stdout",
     "output_type": "stream",
     "text": [
      "This car has 23 miles on it.\n"
     ]
    }
   ],
   "source": [
    "my_new_car.odometer_reading = 23\n",
    "my_new_car.read_odometer()"
   ]
  },
  {
   "cell_type": "markdown",
   "id": "36457e46",
   "metadata": {},
   "source": [
    "#### Modifying an Attribute's Value Through a Method"
   ]
  },
  {
   "cell_type": "code",
   "execution_count": 15,
   "id": "c27682fa",
   "metadata": {},
   "outputs": [
    {
     "name": "stdout",
     "output_type": "stream",
     "text": [
      "2019 Audi A4\n",
      "This car has 0 miles on it.\n"
     ]
    }
   ],
   "source": [
    "class Car:\n",
    "    \"\"\"A simple attempt to represent a car.\"\"\"\n",
    "    \n",
    "    def __init__(self, make, model, year):\n",
    "        \"\"\"Initialize attributes to describe a car.\"\"\"\n",
    "        self.make = make\n",
    "        self.model = model\n",
    "        self.year = year\n",
    "        # setting a default value for an attribute\n",
    "        self.odometer_reading = 0\n",
    "        \n",
    "    def get_descriptive_name(self):\n",
    "        \"\"\"Return a neatly formatted descriptive name.\"\"\"\n",
    "        long_name = f\"{self.year} {self.make} {self.model}\"\n",
    "        return long_name.title()\n",
    "    \n",
    "    def read_odometer(self):\n",
    "        \"\"\"Print a statement showing the car's mileage.\"\"\"\n",
    "        print(f\"This car has {self.odometer_reading} miles on it.\")\n",
    "        \n",
    "    def update_odometer(self, mileage):\n",
    "        \"\"\"\n",
    "        Set the odometer reading to the give value.\n",
    "        Reject the change if it attempts to roll the odometer back.\n",
    "        \"\"\"\n",
    "        if mileage >= self.odometer_reading:\n",
    "            self.odometer_reading = mileage\n",
    "        else:\n",
    "            print(\"You can't roll back an odometer!\")\n",
    "    \n",
    "    \n",
    "my_new_car = Car('audi', 'a4', 2019)\n",
    "print(my_new_car.get_descriptive_name())\n",
    "my_new_car.update_odometer(22)\n",
    "my_new_car.read_odometer()"
   ]
  },
  {
   "cell_type": "markdown",
   "id": "2e396ca7",
   "metadata": {},
   "source": [
    "#### Incrementing an Attribute's Value Through a Method"
   ]
  },
  {
   "cell_type": "code",
   "execution_count": 19,
   "id": "eaeee9f7",
   "metadata": {},
   "outputs": [],
   "source": [
    "class Car:\n",
    "    \"\"\"A simple attempt to represent a car.\"\"\"\n",
    "    \n",
    "    def __init__(self, make, model, year):\n",
    "        \"\"\"Initialize attributes to describe a car.\"\"\"\n",
    "        self.make = make\n",
    "        self.model = model\n",
    "        self.year = year\n",
    "        # setting a default value for an attribute\n",
    "        self.odometer_reading = 0\n",
    "        \n",
    "    def get_descriptive_name(self):\n",
    "        \"\"\"Return a neatly formatted descriptive name.\"\"\"\n",
    "        long_name = f\"{self.year} {self.make} {self.model}\"\n",
    "        return long_name.title()\n",
    "    \n",
    "    def read_odometer(self):\n",
    "        \"\"\"Print a statement showing the car's mileage.\"\"\"\n",
    "        print(f\"This car has {self.odometer_reading} miles on it.\")\n",
    "        \n",
    "    def update_odometer(self, mileage):\n",
    "        \"\"\"\n",
    "        Set the odometer reading to the give value.\n",
    "        Reject the change if it attempts to roll the odometer back.\n",
    "        \"\"\"\n",
    "        if mileage >= self.odometer_reading:\n",
    "            self.odometer_reading = mileage\n",
    "        else:\n",
    "            print(\"You can't roll back an odometer!\")\n",
    "    \n",
    "    def increment_odometer(self, miles):\n",
    "        \"\"\"Add a given amount to the odometer reading.\"\"\"\n",
    "        self.odometer_reading += miles"
   ]
  },
  {
   "cell_type": "code",
   "execution_count": 20,
   "id": "2244e6e8",
   "metadata": {},
   "outputs": [
    {
     "name": "stdout",
     "output_type": "stream",
     "text": [
      "2015 Subaru Outback\n",
      "This car has 23500 miles on it.\n",
      "This car has 23600 miles on it.\n"
     ]
    }
   ],
   "source": [
    "my_used_car = Car('subaru', 'outback', 2015)\n",
    "print(my_used_car.get_descriptive_name())\n",
    "\n",
    "my_used_car.update_odometer(23_500)\n",
    "my_used_car.read_odometer()\n",
    "\n",
    "my_used_car.increment_odometer(100)\n",
    "my_used_car.read_odometer()"
   ]
  },
  {
   "cell_type": "markdown",
   "id": "536cac2b",
   "metadata": {},
   "source": [
    "# EXTRAS\n",
    "\n",
    "Additional notes from [Open Learn](https://www.open.edu/openlearn/)'s **[Simple Coding](https://www.open.edu/openlearn/science-maths-technology/simple-coding/content-section-0?active-tab=description-tab)** course."
   ]
  },
  {
   "cell_type": "markdown",
   "id": "5320e2d1",
   "metadata": {},
   "source": [
    "### Conditionals\n",
    "The order in which we write the conditions is important, because the computer checks them from top to bottom and executes only one block, for the first condition that is true."
   ]
  },
  {
   "cell_type": "code",
   "execution_count": null,
   "id": "4df1b2b1",
   "metadata": {},
   "outputs": [],
   "source": [
    "# If number > 3 will always execute the 1st block!\n",
    "number = 12\n",
    "if number > 10:\n",
    "    number = number**1\n",
    "elif number > 15:\n",
    "    number = number**10\n",
    "else:\n",
    "    number = 0\n",
    "print(number)\n",
    "\n",
    "# Fixed the issue above by chaning the order of conditions!\n",
    "number = 12\n",
    "if number > 15:\n",
    "    number = number**1\n",
    "elif number > 10:\n",
    "    number = number**10\n",
    "else:\n",
    "    number = 0\n",
    "print(number)"
   ]
  },
  {
   "cell_type": "markdown",
   "id": "0194b4d2",
   "metadata": {},
   "source": [
    "### Activity 10\n",
    "Put a complete program together, that starts as above, then asks the user for the number of people in the group, computes the tip and the VAT (20% on the expenses) and finally prints the total bill."
   ]
  },
  {
   "cell_type": "code",
   "execution_count": null,
   "id": "8227ccf8",
   "metadata": {
    "scrolled": true
   },
   "outputs": [],
   "source": [
    "# initialise the variables and constants\n",
    "VAT = 0.2\n",
    "expenses = 0\n",
    "tip = 0\n",
    "\n",
    "# Calculating the expenses\n",
    "while True:\n",
    "    answer = input(\"Price of ordered item?\")\n",
    "    if answer == \"stop\":\n",
    "        break\n",
    "    else:\n",
    "        price = float(answer)\n",
    "        expenses = expenses + price\n",
    "print(\"Total of orders:\", expenses)\n",
    "\n",
    "# Calculating the tip\n",
    "answer = input(\"For how many people you need a table for?\")\n",
    "answer = int(answer)\n",
    "if answer >= 15:\n",
    "    tip = expenses * 0.15\n",
    "elif answer > 6:\n",
    "    tip = expenses * 0.10\n",
    "else: # answer < 6\n",
    "    tip = 0\n",
    "print(\"The tip is:\", round(tip, 2))\n",
    "\n",
    "# Calculating the final bill\n",
    "bill = expenses + tip\n",
    "print(\"The bill is:\", bill)\n",
    "final_bill = bill + bill * VAT\n",
    "print(\"The final bill is:\", final_bill)"
   ]
  },
  {
   "cell_type": "markdown",
   "id": "2e52cabb",
   "metadata": {},
   "source": [
    "### Activity 11\n",
    "\n",
    "Euclid's greatest common divisor algorithm"
   ]
  },
  {
   "cell_type": "code",
   "execution_count": null,
   "id": "6c1f0cf2",
   "metadata": {},
   "outputs": [],
   "source": [
    "# ask user for an integer greater than zero\n",
    "# store it in n\n",
    "n = int(input(\"Give me an integer greater than zero!\"))\n",
    "# ask user for an integer greater than zero\n",
    "# store it in m\n",
    "m = int(input(\"Give me another integer greater than zero!\"))\n",
    "# while n and m are different: \n",
    "while n != m:\n",
    "    # if n is greather than m:\n",
    "    if n > m:\n",
    "        # let n be n - m\n",
    "        n = n - m\n",
    "    # otherwise:\n",
    "    else: # n == m\n",
    "        # let m be m - n\n",
    "        m = m - n\n",
    "# print n\n",
    "print(n)"
   ]
  }
 ],
 "metadata": {
  "kernelspec": {
   "display_name": "Python 3",
   "language": "python",
   "name": "python3"
  },
  "language_info": {
   "codemirror_mode": {
    "name": "ipython",
    "version": 3
   },
   "file_extension": ".py",
   "mimetype": "text/x-python",
   "name": "python",
   "nbconvert_exporter": "python",
   "pygments_lexer": "ipython3",
   "version": "3.8.8"
  }
 },
 "nbformat": 4,
 "nbformat_minor": 5
}
